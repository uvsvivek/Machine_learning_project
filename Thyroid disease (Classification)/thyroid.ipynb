{
 "cells": [
  {
   "cell_type": "code",
   "execution_count": 1,
   "metadata": {},
   "outputs": [],
   "source": [
    "from scipy.io import loadmat\n",
    "import numpy as  np\n",
    "import pandas as pd\n",
    "import seaborn as sns\n",
    "import matplotlib.pyplot as plt"
   ]
  },
  {
   "cell_type": "code",
   "execution_count": 2,
   "metadata": {},
   "outputs": [],
   "source": [
    "data=loadmat(\"thyroidTrain\")"
   ]
  },
  {
   "cell_type": "code",
   "execution_count": 3,
   "metadata": {
    "scrolled": true
   },
   "outputs": [
    {
     "data": {
      "text/plain": [
       "{'__header__': b'MATLAB 5.0 MAT-file, Platform: PCWIN, Created on: Mon Feb 05 00:00:06 2001',\n",
       " '__version__': '1.0',\n",
       " '__globals__': [],\n",
       " 'trainThyroidInput': array([[0.28   , 0.     , 1.     , ..., 0.179  , 0.155  , 0.115  ],\n",
       "        [0.45   , 0.     , 0.     , ..., 0.144  , 0.099  , 0.14516],\n",
       "        [0.77   , 0.     , 0.     , ..., 0.111  , 0.096  , 0.115  ],\n",
       "        ...,\n",
       "        [0.57   , 0.     , 0.     , ..., 0.067  , 0.096  , 0.07   ],\n",
       "        [0.26   , 0.     , 0.     , ..., 0.022  , 0.138  , 0.016  ],\n",
       "        [0.29   , 0.     , 0.     , ..., 0.142  , 0.177  , 0.08   ]]),\n",
       " 'trainThyroidOutput': array([[0, 0, 1],\n",
       "        [0, 0, 1],\n",
       "        [0, 0, 1],\n",
       "        ...,\n",
       "        [0, 0, 1],\n",
       "        [1, 0, 0],\n",
       "        [0, 0, 1]], dtype=uint8),\n",
       " 'testThyroidInput': array([[0.73   , 0.     , 0.     , ..., 0.173  , 0.1    , 0.173  ],\n",
       "        [0.6    , 0.     , 0.     , ..., 0.087  , 0.069  , 0.126  ],\n",
       "        [0.79   , 1.     , 0.     , ..., 0.162  , 0.078  , 0.209  ],\n",
       "        ...,\n",
       "        [0.65   , 0.     , 0.     , ..., 0.096  , 0.095  , 0.10041],\n",
       "        [0.45   , 1.     , 0.     , ..., 0.105  , 0.09   , 0.117  ],\n",
       "        [0.69   , 0.     , 0.     , ..., 0.051  , 0.084  , 0.061  ]])}"
      ]
     },
     "execution_count": 3,
     "metadata": {},
     "output_type": "execute_result"
    }
   ],
   "source": [
    "data"
   ]
  },
  {
   "cell_type": "code",
   "execution_count": 4,
   "metadata": {},
   "outputs": [],
   "source": [
    "X=pd.DataFrame(data['trainThyroidInput'])\n",
    "y=pd.DataFrame(data['trainThyroidOutput'])"
   ]
  },
  {
   "cell_type": "code",
   "execution_count": 5,
   "metadata": {
    "scrolled": true
   },
   "outputs": [
    {
     "data": {
      "text/html": [
       "<div>\n",
       "<style scoped>\n",
       "    .dataframe tbody tr th:only-of-type {\n",
       "        vertical-align: middle;\n",
       "    }\n",
       "\n",
       "    .dataframe tbody tr th {\n",
       "        vertical-align: top;\n",
       "    }\n",
       "\n",
       "    .dataframe thead th {\n",
       "        text-align: right;\n",
       "    }\n",
       "</style>\n",
       "<table border=\"1\" class=\"dataframe\">\n",
       "  <thead>\n",
       "    <tr style=\"text-align: right;\">\n",
       "      <th></th>\n",
       "      <th>0</th>\n",
       "      <th>1</th>\n",
       "      <th>2</th>\n",
       "      <th>3</th>\n",
       "      <th>4</th>\n",
       "      <th>5</th>\n",
       "      <th>6</th>\n",
       "      <th>7</th>\n",
       "      <th>8</th>\n",
       "      <th>9</th>\n",
       "      <th>...</th>\n",
       "      <th>11</th>\n",
       "      <th>12</th>\n",
       "      <th>13</th>\n",
       "      <th>14</th>\n",
       "      <th>15</th>\n",
       "      <th>16</th>\n",
       "      <th>17</th>\n",
       "      <th>18</th>\n",
       "      <th>19</th>\n",
       "      <th>20</th>\n",
       "    </tr>\n",
       "  </thead>\n",
       "  <tbody>\n",
       "    <tr>\n",
       "      <td>0</td>\n",
       "      <td>0.28</td>\n",
       "      <td>0.0</td>\n",
       "      <td>1.0</td>\n",
       "      <td>0.0</td>\n",
       "      <td>0.0</td>\n",
       "      <td>0.0</td>\n",
       "      <td>1.0</td>\n",
       "      <td>0.0</td>\n",
       "      <td>0.0</td>\n",
       "      <td>0.0</td>\n",
       "      <td>...</td>\n",
       "      <td>0.0</td>\n",
       "      <td>0.0</td>\n",
       "      <td>0.0</td>\n",
       "      <td>0.0</td>\n",
       "      <td>0.0</td>\n",
       "      <td>0.00250</td>\n",
       "      <td>0.0260</td>\n",
       "      <td>0.179</td>\n",
       "      <td>0.155</td>\n",
       "      <td>0.11500</td>\n",
       "    </tr>\n",
       "    <tr>\n",
       "      <td>1</td>\n",
       "      <td>0.45</td>\n",
       "      <td>0.0</td>\n",
       "      <td>0.0</td>\n",
       "      <td>0.0</td>\n",
       "      <td>0.0</td>\n",
       "      <td>0.0</td>\n",
       "      <td>0.0</td>\n",
       "      <td>0.0</td>\n",
       "      <td>0.0</td>\n",
       "      <td>0.0</td>\n",
       "      <td>...</td>\n",
       "      <td>0.0</td>\n",
       "      <td>0.0</td>\n",
       "      <td>0.0</td>\n",
       "      <td>0.0</td>\n",
       "      <td>0.0</td>\n",
       "      <td>0.00002</td>\n",
       "      <td>0.0140</td>\n",
       "      <td>0.144</td>\n",
       "      <td>0.099</td>\n",
       "      <td>0.14516</td>\n",
       "    </tr>\n",
       "    <tr>\n",
       "      <td>2</td>\n",
       "      <td>0.77</td>\n",
       "      <td>0.0</td>\n",
       "      <td>0.0</td>\n",
       "      <td>0.0</td>\n",
       "      <td>0.0</td>\n",
       "      <td>0.0</td>\n",
       "      <td>0.0</td>\n",
       "      <td>0.0</td>\n",
       "      <td>0.0</td>\n",
       "      <td>1.0</td>\n",
       "      <td>...</td>\n",
       "      <td>0.0</td>\n",
       "      <td>0.0</td>\n",
       "      <td>0.0</td>\n",
       "      <td>0.0</td>\n",
       "      <td>0.0</td>\n",
       "      <td>0.00189</td>\n",
       "      <td>0.0180</td>\n",
       "      <td>0.111</td>\n",
       "      <td>0.096</td>\n",
       "      <td>0.11500</td>\n",
       "    </tr>\n",
       "    <tr>\n",
       "      <td>3</td>\n",
       "      <td>0.72</td>\n",
       "      <td>0.0</td>\n",
       "      <td>1.0</td>\n",
       "      <td>0.0</td>\n",
       "      <td>1.0</td>\n",
       "      <td>0.0</td>\n",
       "      <td>0.0</td>\n",
       "      <td>0.0</td>\n",
       "      <td>0.0</td>\n",
       "      <td>0.0</td>\n",
       "      <td>...</td>\n",
       "      <td>0.0</td>\n",
       "      <td>0.0</td>\n",
       "      <td>0.0</td>\n",
       "      <td>0.0</td>\n",
       "      <td>0.0</td>\n",
       "      <td>0.00040</td>\n",
       "      <td>0.0206</td>\n",
       "      <td>0.186</td>\n",
       "      <td>0.124</td>\n",
       "      <td>0.15000</td>\n",
       "    </tr>\n",
       "    <tr>\n",
       "      <td>4</td>\n",
       "      <td>0.78</td>\n",
       "      <td>0.0</td>\n",
       "      <td>0.0</td>\n",
       "      <td>0.0</td>\n",
       "      <td>0.0</td>\n",
       "      <td>0.0</td>\n",
       "      <td>0.0</td>\n",
       "      <td>0.0</td>\n",
       "      <td>0.0</td>\n",
       "      <td>0.0</td>\n",
       "      <td>...</td>\n",
       "      <td>0.0</td>\n",
       "      <td>0.0</td>\n",
       "      <td>0.0</td>\n",
       "      <td>0.0</td>\n",
       "      <td>0.0</td>\n",
       "      <td>0.00290</td>\n",
       "      <td>0.0170</td>\n",
       "      <td>0.104</td>\n",
       "      <td>0.076</td>\n",
       "      <td>0.13700</td>\n",
       "    </tr>\n",
       "  </tbody>\n",
       "</table>\n",
       "<p>5 rows × 21 columns</p>\n",
       "</div>"
      ],
      "text/plain": [
       "     0    1    2    3    4    5    6    7    8    9   ...   11   12   13   14  \\\n",
       "0  0.28  0.0  1.0  0.0  0.0  0.0  1.0  0.0  0.0  0.0  ...  0.0  0.0  0.0  0.0   \n",
       "1  0.45  0.0  0.0  0.0  0.0  0.0  0.0  0.0  0.0  0.0  ...  0.0  0.0  0.0  0.0   \n",
       "2  0.77  0.0  0.0  0.0  0.0  0.0  0.0  0.0  0.0  1.0  ...  0.0  0.0  0.0  0.0   \n",
       "3  0.72  0.0  1.0  0.0  1.0  0.0  0.0  0.0  0.0  0.0  ...  0.0  0.0  0.0  0.0   \n",
       "4  0.78  0.0  0.0  0.0  0.0  0.0  0.0  0.0  0.0  0.0  ...  0.0  0.0  0.0  0.0   \n",
       "\n",
       "    15       16      17     18     19       20  \n",
       "0  0.0  0.00250  0.0260  0.179  0.155  0.11500  \n",
       "1  0.0  0.00002  0.0140  0.144  0.099  0.14516  \n",
       "2  0.0  0.00189  0.0180  0.111  0.096  0.11500  \n",
       "3  0.0  0.00040  0.0206  0.186  0.124  0.15000  \n",
       "4  0.0  0.00290  0.0170  0.104  0.076  0.13700  \n",
       "\n",
       "[5 rows x 21 columns]"
      ]
     },
     "execution_count": 5,
     "metadata": {},
     "output_type": "execute_result"
    }
   ],
   "source": [
    "X.head()"
   ]
  },
  {
   "cell_type": "code",
   "execution_count": 6,
   "metadata": {
    "scrolled": true
   },
   "outputs": [
    {
     "name": "stdout",
     "output_type": "stream",
     "text": [
      "113 260 4627\n"
     ]
    }
   ],
   "source": [
    "y1=[]\n",
    "l=[]\n",
    "a=0\n",
    "b=0\n",
    "c=0\n",
    "for i in range(len(y)):\n",
    "    if (y.iloc[i,0]==1) and (y.iloc[i,1]==0) and (y.iloc[i,2]==0):\n",
    "        #print(\"vbksab\")\n",
    "        a+=1\n",
    "        y1.append(0)\n",
    "    elif((y.iloc[i,0]==0) and (y.iloc[i,1]==1) and (y.iloc[i,2]==0)):\n",
    "        #print(\"vbksab\")\n",
    "        b+=1\n",
    "        y1.append(1)\n",
    "    elif((y.iloc[i,0]==0) and (y.iloc[i,1]==0) and (y.iloc[i,2]==1)):\n",
    "        c+=1\n",
    "        y1.append(2)\n",
    "        if(c>=200):\n",
    "            l.append(i)\n",
    "print(a,b,c)"
   ]
  },
  {
   "cell_type": "code",
   "execution_count": 7,
   "metadata": {
    "scrolled": true
   },
   "outputs": [],
   "source": [
    "y1=pd.DataFrame(y1)\n",
    "\n",
    "y1=pd.DataFrame(y1)\n",
    "X=X.drop(l)\n",
    "y1=y1.drop(l)\n"
   ]
  },
  {
   "cell_type": "code",
   "execution_count": null,
   "metadata": {
    "scrolled": true
   },
   "outputs": [],
   "source": []
  },
  {
   "cell_type": "code",
   "execution_count": 8,
   "metadata": {},
   "outputs": [],
   "source": [
    "from sklearn.model_selection import train_test_split\n",
    "x_train,x_test,y_train,y_test=train_test_split(X,y1,test_size=0.2)"
   ]
  },
  {
   "cell_type": "code",
   "execution_count": 9,
   "metadata": {},
   "outputs": [],
   "source": [
    "from sklearn.decomposition import PCA"
   ]
  },
  {
   "cell_type": "code",
   "execution_count": 10,
   "metadata": {},
   "outputs": [],
   "source": [
    "pca=PCA(n_components=5)\n",
    "x_train=pca.fit_transform(x_train)\n",
    "x_test=pca.fit_transform(x_test)"
   ]
  },
  {
   "cell_type": "code",
   "execution_count": 11,
   "metadata": {},
   "outputs": [],
   "source": [
    "x1=x_train"
   ]
  },
  {
   "cell_type": "code",
   "execution_count": 12,
   "metadata": {},
   "outputs": [
    {
     "data": {
      "text/plain": [
       "<seaborn.axisgrid.PairGrid at 0x2a5ded03348>"
      ]
     },
     "execution_count": 12,
     "metadata": {},
     "output_type": "execute_result"
    },
    {
     "data": {
      "image/png": "[encoded data removed]",
      "text/plain": [
       "<Figure size 360x360 with 6 Axes>"
      ]
     },
     "metadata": {
      "needs_background": "light"
     },
     "output_type": "display_data"
    }
   ],
   "source": [
    "u=pd.DataFrame(x_train[:,:2])\n",
    "sns.pairplot(u)"
   ]
  },
  {
   "cell_type": "code",
   "execution_count": 13,
   "metadata": {},
   "outputs": [],
   "source": [
    "from sklearn.preprocessing import MinMaxScaler"
   ]
  },
  {
   "cell_type": "code",
   "execution_count": 14,
   "metadata": {},
   "outputs": [],
   "source": [
    "min_max=MinMaxScaler()\n",
    "x_train=min_max.fit_transform(x_train)\n",
    "x_test=min_max.fit_transform(x_test)"
   ]
  },
  {
   "cell_type": "code",
   "execution_count": 15,
   "metadata": {},
   "outputs": [
    {
     "data": {
      "text/plain": [
       "<matplotlib.axes._subplots.AxesSubplot at 0x2a5e1266f08>"
      ]
     },
     "execution_count": 15,
     "metadata": {},
     "output_type": "execute_result"
    },
    {
     "data": {
      "image/png": "[encoded data removed]",
      "text/plain": [
       "<Figure size 432x360 with 2 Axes>"
      ]
     },
     "metadata": {
      "needs_background": "light"
     },
     "output_type": "display_data"
    }
   ],
   "source": [
    "fig,(ax1,ax2)=plt.subplots(ncols=2,figsize=(6,5))\n",
    "ax1.set_title(\"before scaling\")\n",
    "sns.kdeplot(x1[0],ax=ax1)\n",
    "sns.kdeplot(x1[1],ax=ax1)\n",
    "sns.kdeplot(x1[2],ax=ax1)\n",
    "sns.kdeplot(x1[3],ax=ax1)\n",
    "sns.kdeplot(x1[4],ax=ax1)\n",
    "\n",
    "ax2.set_title(\"after scaling\")\n",
    "sns.kdeplot(x_train[0],ax=ax2)\n",
    "sns.kdeplot(x_train[1],ax=ax2)\n",
    "sns.kdeplot(x_train[2],ax=ax2)\n",
    "sns.kdeplot(x_train[3],ax=ax2)\n",
    "sns.kdeplot(x_train[4],ax=ax2)\n"
   ]
  },
  {
   "cell_type": "code",
   "execution_count": 16,
   "metadata": {},
   "outputs": [],
   "source": [
    "from sklearn.model_selection import GridSearchCV\n",
    "from sklearn.svm import SVC\n",
    "import warnings\n",
    "warnings.filterwarnings(\"ignore\")\n",
    "parameters=[{'C':[1,10,100,1000],'kernel':['linear']},\n",
    "           {'C':[1,10,100,1000],'kernel':['rbf'],'gamma':[0.1,0.2,0.3,0.4,0.5,0.6,0.7,0.8,0.9]}]\n",
    "grid_search=GridSearchCV(SVC(),param_grid=parameters,cv=10)"
   ]
  },
  {
   "cell_type": "code",
   "execution_count": 17,
   "metadata": {},
   "outputs": [],
   "source": [
    "#grid_search.fit(x_train,y_train)\n",
    "#SVC().get_params().keys()"
   ]
  },
  {
   "cell_type": "code",
   "execution_count": 18,
   "metadata": {},
   "outputs": [
    {
     "ename": "AttributeError",
     "evalue": "'GridSearchCV' object has no attribute 'best_params_'",
     "output_type": "error",
     "traceback": [
      "\u001b[1;31m---------------------------------------------------------------------------\u001b[0m",
      "\u001b[1;31mAttributeError\u001b[0m                            Traceback (most recent call last)",
      "\u001b[1;32m<ipython-input-18-b1068600e498>\u001b[0m in \u001b[0;36m<module>\u001b[1;34m\u001b[0m\n\u001b[1;32m----> 1\u001b[1;33m \u001b[0mgrid_search\u001b[0m\u001b[1;33m.\u001b[0m\u001b[0mbest_params_\u001b[0m\u001b[1;33m\u001b[0m\u001b[1;33m\u001b[0m\u001b[0m\n\u001b[0m",
      "\u001b[1;31mAttributeError\u001b[0m: 'GridSearchCV' object has no attribute 'best_params_'"
     ]
    }
   ],
   "source": [
    "grid_search.best_params_"
   ]
  },
  {
   "cell_type": "code",
   "execution_count": 19,
   "metadata": {},
   "outputs": [],
   "source": [
    "from sklearn.linear_model import LogisticRegression\n",
    "from sklearn.neighbors import KNeighborsClassifier\n",
    "from sklearn.svm import SVC\n",
    "from sklearn.tree import DecisionTreeClassifier\n",
    "from sklearn.ensemble import RandomForestClassifier\n",
    "from sklearn.model_selection import KFold,cross_val_score\n",
    "import warnings\n",
    "warnings.filterwarnings(\"ignore\")"
   ]
  },
  {
   "cell_type": "code",
   "execution_count": 20,
   "metadata": {
    "scrolled": true
   },
   "outputs": [
    {
     "name": "stdout",
     "output_type": "stream",
     "text": [
      "LR:0.505507(0.075291)\n",
      "knn:0.442077(0.064970)\n",
      "SVC:0.514203(0.068856)\n",
      "decission tree:0.520531(0.083250)\n",
      "RandomForestClassifier:0.516232(0.058526)\n"
     ]
    }
   ],
   "source": [
    "models=[]\n",
    "models.append((\"LR\",LogisticRegression()))\n",
    "models.append((\"knn\",KNeighborsClassifier()))\n",
    "models.append((\"SVC\",SVC(C=1,gamma=0.1,kernel='rbf')))\n",
    "models.append((\"decission tree\",DecisionTreeClassifier()))\n",
    "models.append((\"RandomForestClassifier\",RandomForestClassifier()))\n",
    "result=[]\n",
    "names=[]\n",
    "for name,model in models:\n",
    "    kfold=KFold(n_splits=10,random_state=7)\n",
    "    cv_results=cross_val_score(model,x_train,y_train[0],cv=kfold,scoring=\"accuracy\")\n",
    "    result.append(cv_results)\n",
    "    names.append(name)\n",
    "    msg=\"%s:%f(%f)\"%(name,cv_results.mean(),cv_results.std())\n",
    "    print(msg)"
   ]
  },
  {
   "cell_type": "code",
   "execution_count": 21,
   "metadata": {},
   "outputs": [],
   "source": [
    "from sklearn.metrics import accuracy_score\n",
    "accuracy=[]\n",
    "y1=y_train.iloc[:,0]\n",
    "u=range(1,30)\n",
    "for i in range(1,30):\n",
    "    knn1=KNeighborsClassifier(n_neighbors=i)\n",
    "    knn1.fit(x_train,y_train)\n",
    "    y_pred=knn1.predict(x_test)\n",
    "    accuracy.append(accuracy_score(y_test,y_pred))"
   ]
  },
  {
   "cell_type": "code",
   "execution_count": 22,
   "metadata": {},
   "outputs": [
    {
     "data": {
      "text/plain": [
       "Text(0, 0.5, 'accuracy')"
      ]
     },
     "execution_count": 22,
     "metadata": {},
     "output_type": "execute_result"
    },
    {
     "data": {
      "image/png": "[encoded data removed]",
      "text/plain": [
       "<Figure size 432x288 with 1 Axes>"
      ]
     },
     "metadata": {
      "needs_background": "light"
     },
     "output_type": "display_data"
    }
   ],
   "source": [
    "import matplotlib.pyplot as plt\n",
    "%matplotlib inline\n",
    "plt.plot(u,accuracy)\n",
    "plt.xlabel(\"k-neighbours\")\n",
    "plt.ylabel(\"accuracy\")"
   ]
  },
  {
   "cell_type": "code",
   "execution_count": 23,
   "metadata": {},
   "outputs": [],
   "source": [
    "KNN=KNeighborsClassifier()\n",
    "KNN.fit(x_train,y_train)\n",
    "y_pred=KNN.predict(x_test)\n"
   ]
  },
  {
   "cell_type": "code",
   "execution_count": 24,
   "metadata": {},
   "outputs": [
    {
     "data": {
      "text/plain": [
       "(115, 1)"
      ]
     },
     "execution_count": 24,
     "metadata": {},
     "output_type": "execute_result"
    }
   ],
   "source": [
    "y_test.shape"
   ]
  },
  {
   "cell_type": "code",
   "execution_count": 25,
   "metadata": {},
   "outputs": [
    {
     "name": "stdout",
     "output_type": "stream",
     "text": [
      "0.3652173913043478\n",
      "              precision    recall  f1-score   support\n",
      "\n",
      "           0       0.13      0.16      0.15        25\n",
      "           1       0.49      0.38      0.43        50\n",
      "           2       0.41      0.47      0.44        40\n",
      "\n",
      "    accuracy                           0.37       115\n",
      "   macro avg       0.34      0.34      0.34       115\n",
      "weighted avg       0.38      0.37      0.37       115\n",
      "\n"
     ]
    }
   ],
   "source": [
    "from sklearn.metrics import classification_report\n",
    "print(accuracy_score(y_test,y_pred))\n",
    "print(classification_report(y_test,y_pred))"
   ]
  },
  {
   "cell_type": "code",
   "execution_count": 26,
   "metadata": {},
   "outputs": [
    {
     "name": "stdout",
     "output_type": "stream",
     "text": [
      "              precision    recall  f1-score   support\n",
      "\n",
      "           0       0.56      0.41      0.47        88\n",
      "           1       0.60      0.85      0.71       210\n",
      "           2       0.68      0.42      0.52       159\n",
      "\n",
      "    accuracy                           0.61       457\n",
      "   macro avg       0.62      0.56      0.57       457\n",
      "weighted avg       0.62      0.61      0.60       457\n",
      "\n"
     ]
    }
   ],
   "source": [
    "y_pred_train=KNN.predict(x_train)\n",
    "print(classification_report(y_train,y_pred_train))"
   ]
  },
  {
   "cell_type": "code",
   "execution_count": 27,
   "metadata": {},
   "outputs": [],
   "source": [
    "decision_tree=DecisionTreeClassifier()\n",
    "decision_tree.fit(x_train,y_train)\n",
    "y_pred_decision_tree=decision_tree.predict(x_test)"
   ]
  },
  {
   "cell_type": "code",
   "execution_count": 28,
   "metadata": {},
   "outputs": [
    {
     "name": "stdout",
     "output_type": "stream",
     "text": [
      "0.3217391304347826\n",
      "              precision    recall  f1-score   support\n",
      "\n",
      "           0       0.20      0.08      0.11        25\n",
      "           1       0.22      0.04      0.07        50\n",
      "           2       0.34      0.82      0.49        40\n",
      "\n",
      "    accuracy                           0.32       115\n",
      "   macro avg       0.26      0.32      0.22       115\n",
      "weighted avg       0.26      0.32      0.22       115\n",
      "\n"
     ]
    }
   ],
   "source": [
    "print(accuracy_score(y_test,y_pred_decision_tree))\n",
    "print(classification_report(y_test,y_pred_decision_tree))"
   ]
  },
  {
   "cell_type": "code",
   "execution_count": 29,
   "metadata": {},
   "outputs": [
    {
     "data": {
      "text/plain": [
       "RandomForestClassifier(bootstrap=True, class_weight=None, criterion='gini',\n",
       "                       max_depth=None, max_features='auto', max_leaf_nodes=None,\n",
       "                       min_impurity_decrease=0.0, min_impurity_split=None,\n",
       "                       min_samples_leaf=1, min_samples_split=2,\n",
       "                       min_weight_fraction_leaf=0.0, n_estimators=10,\n",
       "                       n_jobs=None, oob_score=False, random_state=None,\n",
       "                       verbose=0, warm_start=False)"
      ]
     },
     "execution_count": 29,
     "metadata": {},
     "output_type": "execute_result"
    }
   ],
   "source": [
    "randomforest=RandomForestClassifier()\n",
    "randomforest.fit(x_train,y_train)"
   ]
  },
  {
   "cell_type": "code",
   "execution_count": 30,
   "metadata": {},
   "outputs": [],
   "source": [
    "y_pred_random=randomforest.predict(x_test)"
   ]
  },
  {
   "cell_type": "code",
   "execution_count": 31,
   "metadata": {},
   "outputs": [
    {
     "name": "stdout",
     "output_type": "stream",
     "text": [
      "0.4\n"
     ]
    }
   ],
   "source": [
    "print(accuracy_score(y_test,y_pred_random))"
   ]
  },
  {
   "cell_type": "code",
   "execution_count": 32,
   "metadata": {},
   "outputs": [
    {
     "name": "stdout",
     "output_type": "stream",
     "text": [
      "              precision    recall  f1-score   support\n",
      "\n",
      "           0       0.14      0.04      0.06        25\n",
      "           1       0.57      0.26      0.36        50\n",
      "           2       0.38      0.80      0.51        40\n",
      "\n",
      "    accuracy                           0.40       115\n",
      "   macro avg       0.36      0.37      0.31       115\n",
      "weighted avg       0.41      0.40      0.35       115\n",
      "\n"
     ]
    }
   ],
   "source": [
    "print(classification_report(y_test,y_pred_random))"
   ]
  },
  {
   "cell_type": "code",
   "execution_count": 33,
   "metadata": {},
   "outputs": [
    {
     "name": "stderr",
     "output_type": "stream",
     "text": [
      "Using TensorFlow backend.\n"
     ]
    }
   ],
   "source": [
    "import keras\n",
    "from keras.models import Sequential"
   ]
  },
  {
   "cell_type": "code",
   "execution_count": 34,
   "metadata": {},
   "outputs": [],
   "source": [
    "from keras.layers import Dense"
   ]
  },
  {
   "cell_type": "code",
   "execution_count": 35,
   "metadata": {},
   "outputs": [],
   "source": [
    "clasifier=Sequential()"
   ]
  },
  {
   "cell_type": "code",
   "execution_count": 36,
   "metadata": {},
   "outputs": [],
   "source": [
    "clasifier.add(Dense(output_dim=5,init='uniform',activation='relu',input_dim=21))"
   ]
  },
  {
   "cell_type": "code",
   "execution_count": 37,
   "metadata": {},
   "outputs": [],
   "source": [
    "#clasifier.add(Dense(output_dim=5,init='uniform',activation='relu',input_dim=5))"
   ]
  },
  {
   "cell_type": "code",
   "execution_count": 38,
   "metadata": {},
   "outputs": [],
   "source": [
    "#clasifier.add(Dense(output_dim=5,init='uniform',activation='relu',input_dim=5))"
   ]
  },
  {
   "cell_type": "code",
   "execution_count": 39,
   "metadata": {},
   "outputs": [],
   "source": [
    "# clasifier.add(Dense(output_dim = 3, init = 'uniform', activation = 'softmax'))\n",
    "clasifier.add(Dense(3, init = 'uniform', activation = 'softmax'))"
   ]
  },
  {
   "cell_type": "code",
   "execution_count": 40,
   "metadata": {},
   "outputs": [],
   "source": [
    "clasifier.compile(optimizer = 'adam', loss = 'categorical_crossentropy', metrics = ['accuracy'])"
   ]
  },
  {
   "cell_type": "code",
   "execution_count": 41,
   "metadata": {},
   "outputs": [],
   "source": [
    "X1=pd.DataFrame(data['trainThyroidInput'])\n",
    "Y=pd.DataFrame(data['trainThyroidOutput'])"
   ]
  },
  {
   "cell_type": "code",
   "execution_count": 42,
   "metadata": {},
   "outputs": [
    {
     "name": "stdout",
     "output_type": "stream",
     "text": [
      "Model: \"sequential_1\"\n",
      "_________________________________________________________________\n",
      "Layer (type)                 Output Shape              Param #   \n",
      "=================================================================\n",
      "dense_1 (Dense)              (None, 5)                 110       \n",
      "_________________________________________________________________\n",
      "dense_2 (Dense)              (None, 3)                 18        \n",
      "=================================================================\n",
      "Total params: 128\n",
      "Trainable params: 128\n",
      "Non-trainable params: 0\n",
      "_________________________________________________________________\n"
     ]
    }
   ],
   "source": [
    "clasifier.summary()"
   ]
  },
  {
   "cell_type": "code",
   "execution_count": 43,
   "metadata": {},
   "outputs": [],
   "source": [
    "X_TRAIN,X_TEST,Y_TRAIN,Y_TEST=train_test_split(X1,Y,test_size=0.2)"
   ]
  },
  {
   "cell_type": "code",
   "execution_count": 44,
   "metadata": {},
   "outputs": [
    {
     "name": "stdout",
     "output_type": "stream",
     "text": [
      "(4000, 21) (4000, 3)\n"
     ]
    }
   ],
   "source": [
    "print(X_TRAIN.shape,Y_TRAIN.shape)"
   ]
  },
  {
   "cell_type": "code",
   "execution_count": 45,
   "metadata": {},
   "outputs": [
    {
     "data": {
      "text/plain": [
       "(5000, 3)"
      ]
     },
     "execution_count": 45,
     "metadata": {},
     "output_type": "execute_result"
    }
   ],
   "source": [
    "data['trainThyroidOutput'].shape"
   ]
  },
  {
   "cell_type": "code",
   "execution_count": 46,
   "metadata": {},
   "outputs": [
    {
     "data": {
      "text/html": [
       "<div>\n",
       "<style scoped>\n",
       "    .dataframe tbody tr th:only-of-type {\n",
       "        vertical-align: middle;\n",
       "    }\n",
       "\n",
       "    .dataframe tbody tr th {\n",
       "        vertical-align: top;\n",
       "    }\n",
       "\n",
       "    .dataframe thead th {\n",
       "        text-align: right;\n",
       "    }\n",
       "</style>\n",
       "<table border=\"1\" class=\"dataframe\">\n",
       "  <thead>\n",
       "    <tr style=\"text-align: right;\">\n",
       "      <th></th>\n",
       "      <th>0</th>\n",
       "      <th>1</th>\n",
       "      <th>2</th>\n",
       "    </tr>\n",
       "  </thead>\n",
       "  <tbody>\n",
       "    <tr>\n",
       "      <td>3060</td>\n",
       "      <td>0</td>\n",
       "      <td>0</td>\n",
       "      <td>1</td>\n",
       "    </tr>\n",
       "    <tr>\n",
       "      <td>2451</td>\n",
       "      <td>0</td>\n",
       "      <td>0</td>\n",
       "      <td>1</td>\n",
       "    </tr>\n",
       "    <tr>\n",
       "      <td>367</td>\n",
       "      <td>0</td>\n",
       "      <td>0</td>\n",
       "      <td>1</td>\n",
       "    </tr>\n",
       "    <tr>\n",
       "      <td>2958</td>\n",
       "      <td>0</td>\n",
       "      <td>0</td>\n",
       "      <td>1</td>\n",
       "    </tr>\n",
       "    <tr>\n",
       "      <td>4982</td>\n",
       "      <td>0</td>\n",
       "      <td>0</td>\n",
       "      <td>1</td>\n",
       "    </tr>\n",
       "    <tr>\n",
       "      <td>...</td>\n",
       "      <td>...</td>\n",
       "      <td>...</td>\n",
       "      <td>...</td>\n",
       "    </tr>\n",
       "    <tr>\n",
       "      <td>3977</td>\n",
       "      <td>0</td>\n",
       "      <td>0</td>\n",
       "      <td>1</td>\n",
       "    </tr>\n",
       "    <tr>\n",
       "      <td>349</td>\n",
       "      <td>0</td>\n",
       "      <td>0</td>\n",
       "      <td>1</td>\n",
       "    </tr>\n",
       "    <tr>\n",
       "      <td>744</td>\n",
       "      <td>1</td>\n",
       "      <td>0</td>\n",
       "      <td>0</td>\n",
       "    </tr>\n",
       "    <tr>\n",
       "      <td>3822</td>\n",
       "      <td>0</td>\n",
       "      <td>0</td>\n",
       "      <td>1</td>\n",
       "    </tr>\n",
       "    <tr>\n",
       "      <td>3143</td>\n",
       "      <td>0</td>\n",
       "      <td>0</td>\n",
       "      <td>1</td>\n",
       "    </tr>\n",
       "  </tbody>\n",
       "</table>\n",
       "<p>4000 rows × 3 columns</p>\n",
       "</div>"
      ],
      "text/plain": [
       "      0  1  2\n",
       "3060  0  0  1\n",
       "2451  0  0  1\n",
       "367   0  0  1\n",
       "2958  0  0  1\n",
       "4982  0  0  1\n",
       "...  .. .. ..\n",
       "3977  0  0  1\n",
       "349   0  0  1\n",
       "744   1  0  0\n",
       "3822  0  0  1\n",
       "3143  0  0  1\n",
       "\n",
       "[4000 rows x 3 columns]"
      ]
     },
     "execution_count": 46,
     "metadata": {},
     "output_type": "execute_result"
    }
   ],
   "source": [
    "Y_TRAIN"
   ]
  },
  {
   "cell_type": "code",
   "execution_count": 47,
   "metadata": {
    "scrolled": false
   },
   "outputs": [
    {
     "name": "stdout",
     "output_type": "stream",
     "text": [
      "Epoch 1/10\n",
      "4000/4000 [==============================] - 1s 229us/step - loss: 0.6335 - accuracy: 0.9222\n",
      "Epoch 2/10\n",
      "4000/4000 [==============================] - 1s 149us/step - loss: 0.3014 - accuracy: 0.9247\n",
      "Epoch 3/10\n",
      "4000/4000 [==============================] - 1s 161us/step - loss: 0.2932 - accuracy: 0.9247\n",
      "Epoch 4/10\n",
      "4000/4000 [==============================] - 1s 161us/step - loss: 0.2863 - accuracy: 0.9247\n",
      "Epoch 5/10\n",
      "4000/4000 [==============================] - 1s 161us/step - loss: 0.2785 - accuracy: 0.9247\n",
      "Epoch 6/10\n",
      "4000/4000 [==============================] - 1s 172us/step - loss: 0.2702 - accuracy: 0.9255\n",
      "Epoch 7/10\n",
      "4000/4000 [==============================] - 1s 163us/step - loss: 0.2624 - accuracy: 0.9265\n",
      "Epoch 8/10\n",
      "4000/4000 [==============================] - 1s 179us/step - loss: 0.2556 - accuracy: 0.9273\n",
      "Epoch 9/10\n",
      "4000/4000 [==============================] - 1s 161us/step - loss: 0.2489 - accuracy: 0.9280\n",
      "Epoch 10/10\n",
      "4000/4000 [==============================] - 1s 160us/step - loss: 0.2422 - accuracy: 0.9302\n"
     ]
    },
    {
     "data": {
      "text/plain": [
       "<keras.callbacks.callbacks.History at 0x2a5e7917648>"
      ]
     },
     "execution_count": 47,
     "metadata": {},
     "output_type": "execute_result"
    }
   ],
   "source": [
    "clasifier.fit(X_TRAIN,Y_TRAIN,batch_size=10,nb_epoch=10)"
   ]
  },
  {
   "cell_type": "code",
   "execution_count": null,
   "metadata": {},
   "outputs": [],
   "source": []
  },
  {
   "cell_type": "code",
   "execution_count": 48,
   "metadata": {},
   "outputs": [],
   "source": [
    "y_predict_ann=clasifier.predict(X_TEST)"
   ]
  },
  {
   "cell_type": "code",
   "execution_count": 49,
   "metadata": {},
   "outputs": [
    {
     "data": {
      "text/plain": [
       "array([[0.03061313, 0.08113144, 0.88825536],\n",
       "       [0.01299251, 0.04618064, 0.9408269 ],\n",
       "       [0.0041687 , 0.02388451, 0.9719468 ],\n",
       "       ...,\n",
       "       [0.02826886, 0.07862841, 0.8931027 ],\n",
       "       [0.02864921, 0.0781448 , 0.893206  ],\n",
       "       [0.00676997, 0.03232837, 0.9609017 ]], dtype=float32)"
      ]
     },
     "execution_count": 49,
     "metadata": {},
     "output_type": "execute_result"
    }
   ],
   "source": [
    "y_predict_ann"
   ]
  },
  {
   "cell_type": "code",
   "execution_count": 50,
   "metadata": {},
   "outputs": [
    {
     "name": "stdout",
     "output_type": "stream",
     "text": [
      "ModeResult(mode=array([[0.01640836, 0.05651538, 0.9270763 ]], dtype=float32), count=array([[3, 3, 3]]))\n"
     ]
    }
   ],
   "source": [
    "from scipy import stats\n",
    "c=y_predict_ann[:,0]\n",
    "print(stats.mode(y_predict_ann))"
   ]
  },
  {
   "cell_type": "code",
   "execution_count": null,
   "metadata": {},
   "outputs": [],
   "source": []
  },
  {
   "cell_type": "code",
   "execution_count": 51,
   "metadata": {},
   "outputs": [
    {
     "data": {
      "text/plain": [
       "0.15837088227272034"
      ]
     },
     "execution_count": 51,
     "metadata": {},
     "output_type": "execute_result"
    }
   ],
   "source": [
    "(min(y_predict_ann[:,0])+max(y_predict_ann[:,0]))/2"
   ]
  },
  {
   "cell_type": "code",
   "execution_count": 52,
   "metadata": {},
   "outputs": [
    {
     "data": {
      "text/plain": [
       "0.13583585619926453"
      ]
     },
     "execution_count": 52,
     "metadata": {},
     "output_type": "execute_result"
    }
   ],
   "source": [
    "(min(y_predict_ann[:,1])+max(y_predict_ann[:,1]))/2"
   ]
  },
  {
   "cell_type": "code",
   "execution_count": 53,
   "metadata": {},
   "outputs": [
    {
     "data": {
      "text/plain": [
       "(0.4190957, 0.9978387)"
      ]
     },
     "execution_count": 53,
     "metadata": {},
     "output_type": "execute_result"
    }
   ],
   "source": [
    "min(y_predict_ann[:,2]),max(y_predict_ann[:,2])"
   ]
  },
  {
   "cell_type": "code",
   "execution_count": 54,
   "metadata": {
    "scrolled": true
   },
   "outputs": [],
   "source": [
    "y_predict_ann[:,0]=(y_predict_ann[:,0]>=0.134)\n",
    "y_predict_ann[:,1]=(y_predict_ann[:,1]>=0.133)\n",
    "y_predict_ann=(y_predict_ann>=0.9)"
   ]
  },
  {
   "cell_type": "code",
   "execution_count": 55,
   "metadata": {},
   "outputs": [
    {
     "name": "stdout",
     "output_type": "stream",
     "text": [
      "              precision    recall  f1-score   support\n",
      "\n",
      "           0       0.69      0.50      0.58        18\n",
      "           1       0.23      0.13      0.16        54\n",
      "           2       0.97      0.89      0.93       928\n",
      "\n",
      "   micro avg       0.94      0.84      0.89      1000\n",
      "   macro avg       0.63      0.51      0.56      1000\n",
      "weighted avg       0.92      0.84      0.88      1000\n",
      " samples avg       0.83      0.84      0.84      1000\n",
      "\n"
     ]
    }
   ],
   "source": [
    "print(classification_report(Y_TEST,y_predict_ann))"
   ]
  },
  {
   "cell_type": "code",
   "execution_count": 56,
   "metadata": {},
   "outputs": [],
   "source": [
    "y_predict_ann_train=clasifier.predict(X_TRAIN)"
   ]
  },
  {
   "cell_type": "code",
   "execution_count": 57,
   "metadata": {},
   "outputs": [],
   "source": [
    "y_predict_ann_train[:,0]=(y_predict_ann_train[:,0]>=0.133)\n",
    "y_predict_ann_train[:,1]=(y_predict_ann_train[:,1]>=0.137)\n",
    "y_predict_ann_train[:,2]=(y_predict_ann_train[:,2]>=0.9)"
   ]
  },
  {
   "cell_type": "code",
   "execution_count": 58,
   "metadata": {},
   "outputs": [
    {
     "name": "stdout",
     "output_type": "stream",
     "text": [
      "              precision    recall  f1-score   support\n",
      "\n",
      "           0       0.87      0.61      0.72        95\n",
      "           1       0.16      0.10      0.12       206\n",
      "           2       0.97      0.87      0.92      3699\n",
      "\n",
      "   micro avg       0.93      0.82      0.88      4000\n",
      "   macro avg       0.66      0.53      0.59      4000\n",
      "weighted avg       0.92      0.82      0.87      4000\n",
      " samples avg       0.82      0.82      0.82      4000\n",
      "\n"
     ]
    }
   ],
   "source": [
    "print(classification_report(Y_TRAIN,y_predict_ann_train))"
   ]
  },
  {
   "cell_type": "code",
   "execution_count": null,
   "metadata": {},
   "outputs": [],
   "source": []
  },
  {
   "cell_type": "code",
   "execution_count": null,
   "metadata": {},
   "outputs": [],
   "source": []
  }
 ],
 "metadata": {
  "kernelspec": {
   "display_name": "Python 3",
   "language": "python",
   "name": "python3"
  },
  "language_info": {
   "codemirror_mode": {
    "name": "ipython",
    "version": 3
   },
   "file_extension": ".py",
   "mimetype": "text/x-python",
   "name": "python",
   "nbconvert_exporter": "python",
   "pygments_lexer": "ipython3",
   "version": "3.7.4"
  }
 },
 "nbformat": 4,
 "nbformat_minor": 2
}
