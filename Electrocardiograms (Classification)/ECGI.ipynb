{
 "cells": [
  {
   "cell_type": "code",
   "execution_count": 1,
   "metadata": {
    "scrolled": true
   },
   "outputs": [],
   "source": [
    "from scipy.io import loadmat\n",
    "import numpy as np\n",
    "import pandas as pd\n",
    "import seaborn as sns\n",
    "import matplotlib.pyplot as plt"
   ]
  },
  {
   "cell_type": "code",
   "execution_count": 2,
   "metadata": {},
   "outputs": [],
   "source": [
    "data=loadmat('ECGITtrain.mat')"
   ]
  },
  {
   "cell_type": "code",
   "execution_count": 3,
   "metadata": {},
   "outputs": [
    {
     "name": "stdout",
     "output_type": "stream",
     "text": [
      "(50, 1) (50,)\n"
     ]
    }
   ],
   "source": [
    "X=data[\"inputECGITtrain\"][:50,:1]\n",
    "y=data['outputECGITtrain'][:50,:].reshape(len(X[:50,:]))\n",
    "print(X.shape,y.shape)\n"
   ]
  },
  {
   "cell_type": "code",
   "execution_count": 4,
   "metadata": {},
   "outputs": [
    {
     "data": {
      "text/plain": [
       "array([1, 0, 0, 0, 0, 0, 0, 1, 0, 0, 0, 1, 0, 0, 1, 1, 1, 1, 1, 1, 0, 1,\n",
       "       0, 0, 1, 1, 1, 1, 0, 0, 1, 1, 0, 0, 0, 1, 1, 0, 1, 0, 1, 1, 1, 1,\n",
       "       0, 1, 1, 0, 1, 1], dtype=uint8)"
      ]
     },
     "execution_count": 4,
     "metadata": {},
     "output_type": "execute_result"
    }
   ],
   "source": [
    "y"
   ]
  },
  {
   "cell_type": "code",
   "execution_count": 4,
   "metadata": {},
   "outputs": [],
   "source": [
    "X=pd.DataFrame(data['inputECGITtrain'])"
   ]
  },
  {
   "cell_type": "code",
   "execution_count": 5,
   "metadata": {},
   "outputs": [],
   "source": [
    "y=pd.DataFrame(data['outputECGITtrain'])"
   ]
  },
  {
   "cell_type": "code",
   "execution_count": 6,
   "metadata": {},
   "outputs": [
    {
     "data": {
      "text/html": [
       "<div>\n",
       "<style scoped>\n",
       "    .dataframe tbody tr th:only-of-type {\n",
       "        vertical-align: middle;\n",
       "    }\n",
       "\n",
       "    .dataframe tbody tr th {\n",
       "        vertical-align: top;\n",
       "    }\n",
       "\n",
       "    .dataframe thead th {\n",
       "        text-align: right;\n",
       "    }\n",
       "</style>\n",
       "<table border=\"1\" class=\"dataframe\">\n",
       "  <thead>\n",
       "    <tr style=\"text-align: right;\">\n",
       "      <th></th>\n",
       "      <th>0</th>\n",
       "      <th>1</th>\n",
       "      <th>2</th>\n",
       "      <th>3</th>\n",
       "      <th>4</th>\n",
       "      <th>5</th>\n",
       "      <th>6</th>\n",
       "      <th>7</th>\n",
       "      <th>8</th>\n",
       "      <th>9</th>\n",
       "      <th>...</th>\n",
       "      <th>302</th>\n",
       "      <th>303</th>\n",
       "      <th>304</th>\n",
       "      <th>305</th>\n",
       "      <th>306</th>\n",
       "      <th>307</th>\n",
       "      <th>308</th>\n",
       "      <th>309</th>\n",
       "      <th>310</th>\n",
       "      <th>311</th>\n",
       "    </tr>\n",
       "  </thead>\n",
       "  <tbody>\n",
       "    <tr>\n",
       "      <td>0</td>\n",
       "      <td>0.000000</td>\n",
       "      <td>0.000000</td>\n",
       "      <td>0.000000</td>\n",
       "      <td>1.263726</td>\n",
       "      <td>9.260168</td>\n",
       "      <td>0.000000</td>\n",
       "      <td>0.000000</td>\n",
       "      <td>0.000000</td>\n",
       "      <td>0.000000</td>\n",
       "      <td>3.122016</td>\n",
       "      <td>...</td>\n",
       "      <td>295.769380</td>\n",
       "      <td>185.771260</td>\n",
       "      <td>174.881980</td>\n",
       "      <td>122.467550</td>\n",
       "      <td>33.347773</td>\n",
       "      <td>70.663257</td>\n",
       "      <td>72.647112</td>\n",
       "      <td>74.630968</td>\n",
       "      <td>39.299340</td>\n",
       "      <td>3.967712</td>\n",
       "    </tr>\n",
       "    <tr>\n",
       "      <td>1</td>\n",
       "      <td>14.910554</td>\n",
       "      <td>0.000000</td>\n",
       "      <td>0.000000</td>\n",
       "      <td>0.000000</td>\n",
       "      <td>0.000000</td>\n",
       "      <td>0.000000</td>\n",
       "      <td>2.349886</td>\n",
       "      <td>3.429800</td>\n",
       "      <td>0.000000</td>\n",
       "      <td>0.677154</td>\n",
       "      <td>...</td>\n",
       "      <td>131.445560</td>\n",
       "      <td>32.432446</td>\n",
       "      <td>-66.848706</td>\n",
       "      <td>-100.105370</td>\n",
       "      <td>-206.366590</td>\n",
       "      <td>-205.503160</td>\n",
       "      <td>-101.888160</td>\n",
       "      <td>1.726852</td>\n",
       "      <td>104.478430</td>\n",
       "      <td>207.230020</td>\n",
       "    </tr>\n",
       "    <tr>\n",
       "      <td>2</td>\n",
       "      <td>1.004600</td>\n",
       "      <td>13.892230</td>\n",
       "      <td>9.514961</td>\n",
       "      <td>5.000000</td>\n",
       "      <td>4.243065</td>\n",
       "      <td>2.112423</td>\n",
       "      <td>0.000000</td>\n",
       "      <td>0.000000</td>\n",
       "      <td>0.000000</td>\n",
       "      <td>0.000000</td>\n",
       "      <td>...</td>\n",
       "      <td>-235.082760</td>\n",
       "      <td>-37.129245</td>\n",
       "      <td>67.537278</td>\n",
       "      <td>62.995884</td>\n",
       "      <td>-6.378333</td>\n",
       "      <td>2.845119</td>\n",
       "      <td>10.646011</td>\n",
       "      <td>18.446903</td>\n",
       "      <td>17.024343</td>\n",
       "      <td>15.601784</td>\n",
       "    </tr>\n",
       "    <tr>\n",
       "      <td>3</td>\n",
       "      <td>0.000000</td>\n",
       "      <td>8.197824</td>\n",
       "      <td>0.000000</td>\n",
       "      <td>0.000000</td>\n",
       "      <td>0.000000</td>\n",
       "      <td>12.774901</td>\n",
       "      <td>1.258651</td>\n",
       "      <td>5.204370</td>\n",
       "      <td>0.000000</td>\n",
       "      <td>0.000000</td>\n",
       "      <td>...</td>\n",
       "      <td>214.114240</td>\n",
       "      <td>-9.868878</td>\n",
       "      <td>-242.331670</td>\n",
       "      <td>-347.542490</td>\n",
       "      <td>-75.606477</td>\n",
       "      <td>-181.311670</td>\n",
       "      <td>-196.361030</td>\n",
       "      <td>-211.410390</td>\n",
       "      <td>-120.754550</td>\n",
       "      <td>-30.098718</td>\n",
       "    </tr>\n",
       "    <tr>\n",
       "      <td>4</td>\n",
       "      <td>0.000000</td>\n",
       "      <td>2.992251</td>\n",
       "      <td>6.099344</td>\n",
       "      <td>7.000000</td>\n",
       "      <td>16.430363</td>\n",
       "      <td>0.000000</td>\n",
       "      <td>3.479348</td>\n",
       "      <td>2.176612</td>\n",
       "      <td>0.573881</td>\n",
       "      <td>0.000000</td>\n",
       "      <td>...</td>\n",
       "      <td>49.610847</td>\n",
       "      <td>39.993209</td>\n",
       "      <td>40.009549</td>\n",
       "      <td>16.104852</td>\n",
       "      <td>-7.147251</td>\n",
       "      <td>17.832268</td>\n",
       "      <td>33.895652</td>\n",
       "      <td>49.959037</td>\n",
       "      <td>41.042903</td>\n",
       "      <td>32.126769</td>\n",
       "    </tr>\n",
       "  </tbody>\n",
       "</table>\n",
       "<p>5 rows × 312 columns</p>\n",
       "</div>"
      ],
      "text/plain": [
       "         0          1         2         3          4          5         6    \\\n",
       "0   0.000000   0.000000  0.000000  1.263726   9.260168   0.000000  0.000000   \n",
       "1  14.910554   0.000000  0.000000  0.000000   0.000000   0.000000  2.349886   \n",
       "2   1.004600  13.892230  9.514961  5.000000   4.243065   2.112423  0.000000   \n",
       "3   0.000000   8.197824  0.000000  0.000000   0.000000  12.774901  1.258651   \n",
       "4   0.000000   2.992251  6.099344  7.000000  16.430363   0.000000  3.479348   \n",
       "\n",
       "        7         8         9    ...         302         303         304  \\\n",
       "0  0.000000  0.000000  3.122016  ...  295.769380  185.771260  174.881980   \n",
       "1  3.429800  0.000000  0.677154  ...  131.445560   32.432446  -66.848706   \n",
       "2  0.000000  0.000000  0.000000  ... -235.082760  -37.129245   67.537278   \n",
       "3  5.204370  0.000000  0.000000  ...  214.114240   -9.868878 -242.331670   \n",
       "4  2.176612  0.573881  0.000000  ...   49.610847   39.993209   40.009549   \n",
       "\n",
       "          305         306         307         308         309         310  \\\n",
       "0  122.467550   33.347773   70.663257   72.647112   74.630968   39.299340   \n",
       "1 -100.105370 -206.366590 -205.503160 -101.888160    1.726852  104.478430   \n",
       "2   62.995884   -6.378333    2.845119   10.646011   18.446903   17.024343   \n",
       "3 -347.542490  -75.606477 -181.311670 -196.361030 -211.410390 -120.754550   \n",
       "4   16.104852   -7.147251   17.832268   33.895652   49.959037   41.042903   \n",
       "\n",
       "          311  \n",
       "0    3.967712  \n",
       "1  207.230020  \n",
       "2   15.601784  \n",
       "3  -30.098718  \n",
       "4   32.126769  \n",
       "\n",
       "[5 rows x 312 columns]"
      ]
     },
     "execution_count": 6,
     "metadata": {},
     "output_type": "execute_result"
    }
   ],
   "source": [
    "X.head()"
   ]
  },
  {
   "cell_type": "code",
   "execution_count": 7,
   "metadata": {},
   "outputs": [],
   "source": [
    "from sklearn.model_selection import train_test_split\n",
    "x_train,x_test,y_train,y_test=train_test_split(X,y,test_size=0.2)"
   ]
  },
  {
   "cell_type": "code",
   "execution_count": 8,
   "metadata": {},
   "outputs": [],
   "source": [
    "from sklearn.decomposition import PCA"
   ]
  },
  {
   "cell_type": "code",
   "execution_count": 9,
   "metadata": {},
   "outputs": [],
   "source": [
    "pca=PCA(n_components=15)\n",
    "x_train=pca.fit_transform(x_train)\n",
    "x_test=pca.fit_transform(x_test)\n",
    "x=x_train\n",
    "#print(x[:10,:])"
   ]
  },
  {
   "cell_type": "code",
   "execution_count": 12,
   "metadata": {},
   "outputs": [
    {
     "data": {
      "text/plain": [
       "<seaborn.axisgrid.PairGrid at 0x16464bc9288>"
      ]
     },
     "execution_count": 12,
     "metadata": {},
     "output_type": "execute_result"
    },
    {
     "data": {
      "image/png": "[encoded data removed]",
      "text/plain": [
       "<Figure size 360x360 with 6 Axes>"
      ]
     },
     "metadata": {
      "needs_background": "light"
     },
     "output_type": "display_data"
    }
   ],
   "source": [
    "x1=pd.DataFrame(x_train)\n",
    "sns.pairplot(x1.iloc[:,:2])"
   ]
  },
  {
   "cell_type": "code",
   "execution_count": 10,
   "metadata": {},
   "outputs": [],
   "source": [
    "from sklearn.preprocessing import StandardScaler"
   ]
  },
  {
   "cell_type": "code",
   "execution_count": 11,
   "metadata": {},
   "outputs": [],
   "source": [
    "std=StandardScaler()\n",
    "x_train=std.fit_transform(x_train)\n",
    "x_test=std.fit_transform(x_test)"
   ]
  },
  {
   "cell_type": "code",
   "execution_count": 12,
   "metadata": {},
   "outputs": [
    {
     "data": {
      "text/plain": [
       "<matplotlib.axes._subplots.AxesSubplot at 0x24239654a88>"
      ]
     },
     "execution_count": 12,
     "metadata": {},
     "output_type": "execute_result"
    },
    {
     "data": {
      "image/png": "[encoded data removed]",
      "text/plain": [
       "<Figure size 432x360 with 2 Axes>"
      ]
     },
     "metadata": {
      "needs_background": "light"
     },
     "output_type": "display_data"
    }
   ],
   "source": [
    "fig,(ax1,ax2)=plt.subplots(ncols=2,figsize=(6,5))\n",
    "ax1.set_title(\"before scling\")\n",
    "sns.kdeplot(x[0],ax=ax1)\n",
    "sns.kdeplot(x[1],ax=ax1)\n",
    "sns.kdeplot(x[2],ax=ax1)\n",
    "ax2.set_title(\"after scaling\")\n",
    "sns.kdeplot(x_train[0],ax=ax2)\n",
    "sns.kdeplot(x_train[1],ax=ax2)\n",
    "sns.kdeplot(x_train[2],ax=ax2)\n"
   ]
  },
  {
   "cell_type": "code",
   "execution_count": 13,
   "metadata": {},
   "outputs": [],
   "source": [
    "from sklearn.model_selection import GridSearchCV\n",
    "from sklearn.svm import SVC\n",
    "import warnings\n",
    "warnings.filterwarnings(\"ignore\")\n",
    "parameters=[{'C':[1,10,100,1000],'kernel':['linear']},\n",
    "           {'C':[1,10,100,1000],'kernel':['rbf'],'gamma':[0.1,0.2,0.3,0.4,0.5,0.6,0.7,0.8,0.9]}]\n",
    "grid_search=GridSearchCV(SVC(),param_grid=parameters,cv=10)"
   ]
  },
  {
   "cell_type": "code",
   "execution_count": 14,
   "metadata": {},
   "outputs": [
    {
     "data": {
      "text/plain": [
       "GridSearchCV(cv=10, error_score='raise-deprecating',\n",
       "             estimator=SVC(C=1.0, cache_size=200, class_weight=None, coef0=0.0,\n",
       "                           decision_function_shape='ovr', degree=3,\n",
       "                           gamma='auto_deprecated', kernel='rbf', max_iter=-1,\n",
       "                           probability=False, random_state=None, shrinking=True,\n",
       "                           tol=0.001, verbose=False),\n",
       "             iid='warn', n_jobs=None,\n",
       "             param_grid=[{'C': [1, 10, 100, 1000], 'kernel': ['linear']},\n",
       "                         {'C': [1, 10, 100, 1000],\n",
       "                          'gamma': [0.1, 0.2, 0.3, 0.4, 0.5, 0.6, 0.7, 0.8,\n",
       "                                    0.9],\n",
       "                          'kernel': ['rbf']}],\n",
       "             pre_dispatch='2*n_jobs', refit=True, return_train_score=False,\n",
       "             scoring=None, verbose=0)"
      ]
     },
     "execution_count": 14,
     "metadata": {},
     "output_type": "execute_result"
    }
   ],
   "source": [
    "grid_search.fit(x_train,y_train)\n",
    "#SVC().get_params().keys()"
   ]
  },
  {
   "cell_type": "code",
   "execution_count": 15,
   "metadata": {},
   "outputs": [
    {
     "data": {
      "text/plain": [
       "{'C': 10, 'gamma': 0.1, 'kernel': 'rbf'}"
      ]
     },
     "execution_count": 15,
     "metadata": {},
     "output_type": "execute_result"
    }
   ],
   "source": [
    "grid_search.best_params_"
   ]
  },
  {
   "cell_type": "code",
   "execution_count": 16,
   "metadata": {},
   "outputs": [],
   "source": [
    "from sklearn.linear_model import LogisticRegression\n",
    "from sklearn.neighbors import KNeighborsClassifier\n",
    "from sklearn.tree import DecisionTreeClassifier\n",
    "from sklearn.naive_bayes import GaussianNB\n",
    "from sklearn.svm import SVC\n",
    "from sklearn.model_selection import KFold,cross_val_score\n",
    "from sklearn.ensemble import RandomForestClassifier\n",
    "import warnings\n",
    "warnings.filterwarnings(\"ignore\")"
   ]
  },
  {
   "cell_type": "code",
   "execution_count": 17,
   "metadata": {},
   "outputs": [
    {
     "name": "stdout",
     "output_type": "stream",
     "text": [
      "LR:0.662500(0.097628)\n",
      "knn:0.681250(0.094580)\n",
      "decision tree:0.543750(0.118750)\n",
      "svc:0.650000(0.105327)\n",
      "nb:0.650000(0.131696)\n",
      "randomforest classifer:0.631250(0.090355)\n"
     ]
    }
   ],
   "source": [
    "models=[]\n",
    "models.append((\"LR\",LogisticRegression()))\n",
    "models.append((\"knn\",KNeighborsClassifier()))\n",
    "models.append((\"decision tree\",DecisionTreeClassifier()))\n",
    "models.append((\"svc\",SVC(kernel=\"rbf\")))\n",
    "models.append((\"nb\",GaussianNB()))\n",
    "models.append((\"randomforest classifer\",RandomForestClassifier()))\n",
    "results=[]\n",
    "names=[]\n",
    "for name,model in models:\n",
    "    kfold=KFold(n_splits=10,random_state=7)\n",
    "    cv_results=cross_val_score(model,x_train,y_train,cv=kfold,scoring=\"accuracy\")\n",
    "    results.append(cv_results)\n",
    "    names.append(name)\n",
    "    msg=\"%s:%f(%f)\"%(name,cv_results.mean(),cv_results.std())\n",
    "    print(msg)\n",
    "    "
   ]
  },
  {
   "cell_type": "code",
   "execution_count": 18,
   "metadata": {},
   "outputs": [],
   "source": [
    "from sklearn.metrics import accuracy_score\n",
    "scores=[]\n",
    "k_range=range(1,50)\n",
    "for k in range(1,50):\n",
    "    knn=KNeighborsClassifier(n_neighbors=k)\n",
    "\n",
    "    knn.fit(x_train,y_train)\n",
    "    y_pred=knn.predict(x_test)\n",
    "    scores.append(accuracy_score(y_test,y_pred))\n",
    "    \n",
    "\n",
    "    "
   ]
  },
  {
   "cell_type": "code",
   "execution_count": 19,
   "metadata": {
    "scrolled": false
   },
   "outputs": [
    {
     "data": {
      "text/plain": [
       "49"
      ]
     },
     "execution_count": 19,
     "metadata": {},
     "output_type": "execute_result"
    }
   ],
   "source": [
    "len(scores)"
   ]
  },
  {
   "cell_type": "code",
   "execution_count": 20,
   "metadata": {},
   "outputs": [
    {
     "data": {
      "text/plain": [
       "Text(0, 0.5, 'testing accuracy')"
      ]
     },
     "execution_count": 20,
     "metadata": {},
     "output_type": "execute_result"
    },
    {
     "data": {
      "image/png": "[encoded data removed]",
      "text/plain": [
       "<Figure size 432x288 with 1 Axes>"
      ]
     },
     "metadata": {
      "needs_background": "light"
     },
     "output_type": "display_data"
    }
   ],
   "source": [
    "%matplotlib inline\n",
    "import matplotlib.pyplot as plt\n",
    "plt.plot(k_range,scores)\n",
    "plt.xlabel(\"K range from 1 to 50\")\n",
    "plt.ylabel(\"testing accuracy\")"
   ]
  },
  {
   "cell_type": "code",
   "execution_count": 21,
   "metadata": {},
   "outputs": [],
   "source": [
    "knn=KNeighborsClassifier(n_neighbors=9)\n",
    "knn.fit(x_train,y_train)\n",
    "y_pred=knn.predict(x_test)"
   ]
  },
  {
   "cell_type": "code",
   "execution_count": 22,
   "metadata": {},
   "outputs": [],
   "source": [
    "from sklearn.metrics import accuracy_score,classification_report,confusion_matrix"
   ]
  },
  {
   "cell_type": "code",
   "execution_count": 23,
   "metadata": {},
   "outputs": [
    {
     "name": "stdout",
     "output_type": "stream",
     "text": [
      "accuracy of knn for 8  neighbors is 0.675\n",
      "              precision    recall  f1-score   support\n",
      "\n",
      "           0       0.67      0.76      0.71        21\n",
      "           1       0.69      0.58      0.63        19\n",
      "\n",
      "    accuracy                           0.68        40\n",
      "   macro avg       0.68      0.67      0.67        40\n",
      "weighted avg       0.68      0.68      0.67        40\n",
      "\n"
     ]
    }
   ],
   "source": [
    "print(\"accuracy of knn for 8  neighbors is\",accuracy_score(y_test,y_pred))\n",
    "print(classification_report(y_test,y_pred))"
   ]
  },
  {
   "cell_type": "code",
   "execution_count": 24,
   "metadata": {},
   "outputs": [],
   "source": [
    "svc=SVC(kernel='rbf')"
   ]
  },
  {
   "cell_type": "code",
   "execution_count": 25,
   "metadata": {},
   "outputs": [],
   "source": [
    "svc.fit(x_train,y_train)\n",
    "y_pred_svc=svc.predict(x_test)"
   ]
  },
  {
   "cell_type": "code",
   "execution_count": 26,
   "metadata": {},
   "outputs": [
    {
     "name": "stdout",
     "output_type": "stream",
     "text": [
      "[[18  6]\n",
      " [ 1 15]]\n",
      "0.825\n"
     ]
    }
   ],
   "source": [
    "print(confusion_matrix(y_pred,y_pred_svc))\n",
    "print(accuracy_score(y_pred,y_pred_svc))"
   ]
  },
  {
   "cell_type": "code",
   "execution_count": 27,
   "metadata": {},
   "outputs": [
    {
     "name": "stdout",
     "output_type": "stream",
     "text": [
      "              precision    recall  f1-score   support\n",
      "\n",
      "           0       0.58      0.52      0.55        21\n",
      "           1       0.52      0.58      0.55        19\n",
      "\n",
      "    accuracy                           0.55        40\n",
      "   macro avg       0.55      0.55      0.55        40\n",
      "weighted avg       0.55      0.55      0.55        40\n",
      "\n"
     ]
    }
   ],
   "source": [
    "print(classification_report(y_test,y_pred_svc))"
   ]
  },
  {
   "cell_type": "code",
   "execution_count": 28,
   "metadata": {},
   "outputs": [],
   "source": [
    "y_pred_svc_train=svc.predict(x_train)"
   ]
  },
  {
   "cell_type": "code",
   "execution_count": 29,
   "metadata": {},
   "outputs": [
    {
     "name": "stdout",
     "output_type": "stream",
     "text": [
      "0.93125\n",
      "[[78  1]\n",
      " [10 71]]\n",
      "              precision    recall  f1-score   support\n",
      "\n",
      "           0       0.89      0.99      0.93        79\n",
      "           1       0.99      0.88      0.93        81\n",
      "\n",
      "    accuracy                           0.93       160\n",
      "   macro avg       0.94      0.93      0.93       160\n",
      "weighted avg       0.94      0.93      0.93       160\n",
      "\n"
     ]
    }
   ],
   "source": [
    "print(accuracy_score(y_train,y_pred_svc_train))\n",
    "print(confusion_matrix(y_train,y_pred_svc_train))\n",
    "print(classification_report(y_train,y_pred_svc_train))"
   ]
  },
  {
   "cell_type": "code",
   "execution_count": null,
   "metadata": {},
   "outputs": [],
   "source": []
  },
  {
   "cell_type": "markdown",
   "metadata": {},
   "source": [
    "### neural network"
   ]
  },
  {
   "cell_type": "code",
   "execution_count": 30,
   "metadata": {
    "scrolled": false
   },
   "outputs": [
    {
     "name": "stderr",
     "output_type": "stream",
     "text": [
      "Using TensorFlow backend.\n"
     ]
    }
   ],
   "source": [
    "import keras\n",
    "from keras.models import Sequential\n",
    "from keras.layers import Dense"
   ]
  },
  {
   "cell_type": "code",
   "execution_count": 31,
   "metadata": {},
   "outputs": [],
   "source": [
    "classifier=Sequential()"
   ]
  },
  {
   "cell_type": "code",
   "execution_count": 32,
   "metadata": {},
   "outputs": [],
   "source": [
    "classifier.add(Dense(output_dim=1,init='uniform',activation='relu',input_dim=15))"
   ]
  },
  {
   "cell_type": "code",
   "execution_count": 33,
   "metadata": {},
   "outputs": [],
   "source": [
    "classifier.add(Dense(output_dim=6,init='uniform',activation='relu'))"
   ]
  },
  {
   "cell_type": "code",
   "execution_count": null,
   "metadata": {},
   "outputs": [],
   "source": []
  },
  {
   "cell_type": "code",
   "execution_count": 34,
   "metadata": {},
   "outputs": [],
   "source": [
    "classifier.add(Dense(output_dim=1,init='uniform',activation='sigmoid'))"
   ]
  },
  {
   "cell_type": "code",
   "execution_count": 35,
   "metadata": {},
   "outputs": [],
   "source": [
    "classifier.compile(optimizer='adam',loss='binary_crossentropy',metrics=['accuracy'])"
   ]
  },
  {
   "cell_type": "code",
   "execution_count": 36,
   "metadata": {
    "scrolled": true
   },
   "outputs": [
    {
     "name": "stdout",
     "output_type": "stream",
     "text": [
      "Epoch 1/100\n",
      "160/160 [==============================] - 1s 6ms/step - loss: 0.6932 - accuracy: 0.4938\n",
      "Epoch 2/100\n",
      "160/160 [==============================] - 0s 63us/step - loss: 0.6932 - accuracy: 0.4062\n",
      "Epoch 3/100\n",
      "160/160 [==============================] - 0s 105us/step - loss: 0.6931 - accuracy: 0.5063\n",
      "Epoch 4/100\n",
      "160/160 [==============================] - 0s 116us/step - loss: 0.6931 - accuracy: 0.5063\n",
      "Epoch 5/100\n",
      "160/160 [==============================] - 0s 89us/step - loss: 0.6931 - accuracy: 0.5063\n",
      "Epoch 6/100\n",
      "160/160 [==============================] - 0s 128us/step - loss: 0.6931 - accuracy: 0.5063\n",
      "Epoch 7/100\n",
      "160/160 [==============================] - 0s 92us/step - loss: 0.6931 - accuracy: 0.5063\n",
      "Epoch 8/100\n",
      "160/160 [==============================] - 0s 94us/step - loss: 0.6931 - accuracy: 0.5063\n",
      "Epoch 9/100\n",
      "160/160 [==============================] - 0s 117us/step - loss: 0.6931 - accuracy: 0.5063\n",
      "Epoch 10/100\n",
      "160/160 [==============================] - 0s 96us/step - loss: 0.6931 - accuracy: 0.5063\n",
      "Epoch 11/100\n",
      "160/160 [==============================] - 0s 79us/step - loss: 0.6931 - accuracy: 0.5063\n",
      "Epoch 12/100\n",
      "160/160 [==============================] - 0s 100us/step - loss: 0.6931 - accuracy: 0.5063\n",
      "Epoch 13/100\n",
      "160/160 [==============================] - 0s 120us/step - loss: 0.6931 - accuracy: 0.5063\n",
      "Epoch 14/100\n",
      "160/160 [==============================] - 0s 85us/step - loss: 0.6931 - accuracy: 0.5063\n",
      "Epoch 15/100\n",
      "160/160 [==============================] - 0s 131us/step - loss: 0.6931 - accuracy: 0.5063\n",
      "Epoch 16/100\n",
      "160/160 [==============================] - 0s 84us/step - loss: 0.6931 - accuracy: 0.5063\n",
      "Epoch 17/100\n",
      "160/160 [==============================] - 0s 59us/step - loss: 0.6931 - accuracy: 0.5063\n",
      "Epoch 18/100\n",
      "160/160 [==============================] - 0s 41us/step - loss: 0.6931 - accuracy: 0.5063\n",
      "Epoch 19/100\n",
      "160/160 [==============================] - 0s 71us/step - loss: 0.6931 - accuracy: 0.5063\n",
      "Epoch 20/100\n",
      "160/160 [==============================] - 0s 62us/step - loss: 0.6931 - accuracy: 0.5063\n",
      "Epoch 21/100\n",
      "160/160 [==============================] - 0s 80us/step - loss: 0.6931 - accuracy: 0.5063\n",
      "Epoch 22/100\n",
      "160/160 [==============================] - 0s 65us/step - loss: 0.6930 - accuracy: 0.5063\n",
      "Epoch 23/100\n",
      "160/160 [==============================] - 0s 72us/step - loss: 0.6930 - accuracy: 0.5063\n",
      "Epoch 24/100\n",
      "160/160 [==============================] - 0s 64us/step - loss: 0.6930 - accuracy: 0.5063\n",
      "Epoch 25/100\n",
      "160/160 [==============================] - 0s 54us/step - loss: 0.6930 - accuracy: 0.5063\n",
      "Epoch 26/100\n",
      "160/160 [==============================] - 0s 53us/step - loss: 0.6930 - accuracy: 0.5063\n",
      "Epoch 27/100\n",
      "160/160 [==============================] - 0s 64us/step - loss: 0.6929 - accuracy: 0.5063\n",
      "Epoch 28/100\n",
      "160/160 [==============================] - 0s 63us/step - loss: 0.6929 - accuracy: 0.5063\n",
      "Epoch 29/100\n",
      "160/160 [==============================] - 0s 51us/step - loss: 0.6929 - accuracy: 0.5063\n",
      "Epoch 30/100\n",
      "160/160 [==============================] - 0s 77us/step - loss: 0.6928 - accuracy: 0.5063\n",
      "Epoch 31/100\n",
      "160/160 [==============================] - 0s 62us/step - loss: 0.6928 - accuracy: 0.5063\n",
      "Epoch 32/100\n",
      "160/160 [==============================] - 0s 69us/step - loss: 0.6928 - accuracy: 0.5063\n",
      "Epoch 33/100\n",
      "160/160 [==============================] - 0s 66us/step - loss: 0.6927 - accuracy: 0.5063\n",
      "Epoch 34/100\n",
      "160/160 [==============================] - 0s 66us/step - loss: 0.6926 - accuracy: 0.5063\n",
      "Epoch 35/100\n",
      "160/160 [==============================] - 0s 65us/step - loss: 0.6926 - accuracy: 0.5063\n",
      "Epoch 36/100\n",
      "160/160 [==============================] - 0s 63us/step - loss: 0.6925 - accuracy: 0.5063\n",
      "Epoch 37/100\n",
      "160/160 [==============================] - 0s 63us/step - loss: 0.6925 - accuracy: 0.5063\n",
      "Epoch 38/100\n",
      "160/160 [==============================] - 0s 53us/step - loss: 0.6924 - accuracy: 0.5063\n",
      "Epoch 39/100\n",
      "160/160 [==============================] - 0s 57us/step - loss: 0.6923 - accuracy: 0.5063\n",
      "Epoch 40/100\n",
      "160/160 [==============================] - 0s 50us/step - loss: 0.6922 - accuracy: 0.5063\n",
      "Epoch 41/100\n",
      "160/160 [==============================] - 0s 54us/step - loss: 0.6921 - accuracy: 0.5063\n",
      "Epoch 42/100\n",
      "160/160 [==============================] - 0s 59us/step - loss: 0.6920 - accuracy: 0.5063\n",
      "Epoch 43/100\n",
      "160/160 [==============================] - 0s 57us/step - loss: 0.6919 - accuracy: 0.5063\n",
      "Epoch 44/100\n",
      "160/160 [==============================] - 0s 40us/step - loss: 0.6917 - accuracy: 0.5063\n",
      "Epoch 45/100\n",
      "160/160 [==============================] - ETA: 0s - loss: 0.6915 - accuracy: 0.53 - 0s 58us/step - loss: 0.6916 - accuracy: 0.5063\n",
      "Epoch 46/100\n",
      "160/160 [==============================] - ETA: 0s - loss: 0.6914 - accuracy: 0.46 - 0s 58us/step - loss: 0.6915 - accuracy: 0.5063\n",
      "Epoch 47/100\n",
      "160/160 [==============================] - 0s 61us/step - loss: 0.6913 - accuracy: 0.5063\n",
      "Epoch 48/100\n",
      "160/160 [==============================] - 0s 65us/step - loss: 0.6911 - accuracy: 0.5063\n",
      "Epoch 49/100\n",
      "160/160 [==============================] - 0s 68us/step - loss: 0.6910 - accuracy: 0.5063\n",
      "Epoch 50/100\n",
      "160/160 [==============================] - 0s 50us/step - loss: 0.6908 - accuracy: 0.5063\n",
      "Epoch 51/100\n",
      "160/160 [==============================] - 0s 54us/step - loss: 0.6906 - accuracy: 0.5063\n",
      "Epoch 52/100\n",
      "160/160 [==============================] - 0s 59us/step - loss: 0.6904 - accuracy: 0.5063\n",
      "Epoch 53/100\n",
      "160/160 [==============================] - 0s 51us/step - loss: 0.6901 - accuracy: 0.5063\n",
      "Epoch 54/100\n",
      "160/160 [==============================] - 0s 55us/step - loss: 0.6899 - accuracy: 0.5063\n",
      "Epoch 55/100\n",
      "160/160 [==============================] - 0s 37us/step - loss: 0.6897 - accuracy: 0.5063\n",
      "Epoch 56/100\n",
      "160/160 [==============================] - 0s 38us/step - loss: 0.6894 - accuracy: 0.5063\n",
      "Epoch 57/100\n",
      "160/160 [==============================] - 0s 75us/step - loss: 0.6891 - accuracy: 0.5063\n",
      "Epoch 58/100\n",
      "160/160 [==============================] - 0s 63us/step - loss: 0.6888 - accuracy: 0.5063\n",
      "Epoch 59/100\n",
      "160/160 [==============================] - 0s 45us/step - loss: 0.6885 - accuracy: 0.5063\n",
      "Epoch 60/100\n",
      "160/160 [==============================] - 0s 47us/step - loss: 0.6882 - accuracy: 0.5063\n",
      "Epoch 61/100\n",
      "160/160 [==============================] - 0s 40us/step - loss: 0.6878 - accuracy: 0.5063\n",
      "Epoch 62/100\n",
      "160/160 [==============================] - 0s 75us/step - loss: 0.6875 - accuracy: 0.5063\n",
      "Epoch 63/100\n",
      "160/160 [==============================] - 0s 54us/step - loss: 0.6871 - accuracy: 0.5063\n",
      "Epoch 64/100\n",
      "160/160 [==============================] - 0s 84us/step - loss: 0.6867 - accuracy: 0.5063\n",
      "Epoch 65/100\n",
      "160/160 [==============================] - 0s 54us/step - loss: 0.6864 - accuracy: 0.5063\n",
      "Epoch 66/100\n",
      "160/160 [==============================] - 0s 58us/step - loss: 0.6859 - accuracy: 0.5063\n",
      "Epoch 67/100\n",
      "160/160 [==============================] - 0s 62us/step - loss: 0.6855 - accuracy: 0.5063\n",
      "Epoch 68/100\n",
      "160/160 [==============================] - 0s 54us/step - loss: 0.6850 - accuracy: 0.5063\n",
      "Epoch 69/100\n",
      "160/160 [==============================] - 0s 69us/step - loss: 0.6846 - accuracy: 0.5063\n",
      "Epoch 70/100\n",
      "160/160 [==============================] - 0s 64us/step - loss: 0.6841 - accuracy: 0.5063\n",
      "Epoch 71/100\n",
      "160/160 [==============================] - 0s 65us/step - loss: 0.6836 - accuracy: 0.5063\n",
      "Epoch 72/100\n",
      "160/160 [==============================] - 0s 67us/step - loss: 0.6831 - accuracy: 0.5063\n",
      "Epoch 73/100\n",
      "160/160 [==============================] - 0s 72us/step - loss: 0.6825 - accuracy: 0.5063\n",
      "Epoch 74/100\n",
      "160/160 [==============================] - 0s 65us/step - loss: 0.6820 - accuracy: 0.5063\n",
      "Epoch 75/100\n",
      "160/160 [==============================] - 0s 59us/step - loss: 0.6814 - accuracy: 0.5063\n",
      "Epoch 76/100\n",
      "160/160 [==============================] - 0s 65us/step - loss: 0.6808 - accuracy: 0.5063\n",
      "Epoch 77/100\n",
      "160/160 [==============================] - 0s 72us/step - loss: 0.6802 - accuracy: 0.5063\n",
      "Epoch 78/100\n",
      "160/160 [==============================] - 0s 60us/step - loss: 0.6795 - accuracy: 0.5063\n",
      "Epoch 79/100\n",
      "160/160 [==============================] - 0s 65us/step - loss: 0.6789 - accuracy: 0.5063\n",
      "Epoch 80/100\n",
      "160/160 [==============================] - 0s 78us/step - loss: 0.6782 - accuracy: 0.5063\n",
      "Epoch 81/100\n",
      "160/160 [==============================] - 0s 59us/step - loss: 0.6775 - accuracy: 0.5063\n",
      "Epoch 82/100\n",
      "160/160 [==============================] - 0s 57us/step - loss: 0.6769 - accuracy: 0.5063\n",
      "Epoch 83/100\n",
      "160/160 [==============================] - 0s 53us/step - loss: 0.6761 - accuracy: 0.5063\n",
      "Epoch 84/100\n",
      "160/160 [==============================] - 0s 55us/step - loss: 0.6754 - accuracy: 0.5063\n",
      "Epoch 85/100\n",
      "160/160 [==============================] - 0s 39us/step - loss: 0.6746 - accuracy: 0.5063\n",
      "Epoch 86/100\n",
      "160/160 [==============================] - 0s 64us/step - loss: 0.6739 - accuracy: 0.5063\n",
      "Epoch 87/100\n",
      "160/160 [==============================] - 0s 47us/step - loss: 0.6731 - accuracy: 0.5063\n",
      "Epoch 88/100\n",
      "160/160 [==============================] - 0s 60us/step - loss: 0.6723 - accuracy: 0.5063\n",
      "Epoch 89/100\n",
      "160/160 [==============================] - 0s 52us/step - loss: 0.6715 - accuracy: 0.5063\n",
      "Epoch 90/100\n",
      "160/160 [==============================] - 0s 45us/step - loss: 0.6707 - accuracy: 0.5063\n",
      "Epoch 91/100\n",
      "160/160 [==============================] - 0s 38us/step - loss: 0.6699 - accuracy: 0.5063\n",
      "Epoch 92/100\n",
      "160/160 [==============================] - 0s 61us/step - loss: 0.6690 - accuracy: 0.6750\n",
      "Epoch 93/100\n",
      "160/160 [==============================] - 0s 56us/step - loss: 0.6681 - accuracy: 0.6812\n",
      "Epoch 94/100\n",
      "160/160 [==============================] - 0s 63us/step - loss: 0.6673 - accuracy: 0.6812\n",
      "Epoch 95/100\n",
      "160/160 [==============================] - 0s 62us/step - loss: 0.6664 - accuracy: 0.6812\n",
      "Epoch 96/100\n",
      "160/160 [==============================] - 0s 45us/step - loss: 0.6655 - accuracy: 0.6812\n",
      "Epoch 97/100\n",
      "160/160 [==============================] - 0s 40us/step - loss: 0.6645 - accuracy: 0.6812\n",
      "Epoch 98/100\n",
      "160/160 [==============================] - 0s 50us/step - loss: 0.6636 - accuracy: 0.6812\n",
      "Epoch 99/100\n",
      "160/160 [==============================] - 0s 57us/step - loss: 0.6627 - accuracy: 0.6812\n",
      "Epoch 100/100\n",
      "160/160 [==============================] - 0s 66us/step - loss: 0.6617 - accuracy: 0.6812\n"
     ]
    },
    {
     "data": {
      "text/plain": [
       "<keras.callbacks.callbacks.History at 0x2423ed77188>"
      ]
     },
     "execution_count": 36,
     "metadata": {},
     "output_type": "execute_result"
    }
   ],
   "source": [
    "classifier.fit(x_train,y_train,batch_size=100,nb_epoch=100)"
   ]
  },
  {
   "cell_type": "code",
   "execution_count": 37,
   "metadata": {},
   "outputs": [],
   "source": [
    "y_pre_dnn=classifier.predict(x_test)"
   ]
  },
  {
   "cell_type": "code",
   "execution_count": 38,
   "metadata": {},
   "outputs": [],
   "source": [
    "y_pred_dnn=(y_pre_dnn>0.5)"
   ]
  },
  {
   "cell_type": "code",
   "execution_count": 39,
   "metadata": {},
   "outputs": [],
   "source": [
    "from sklearn.metrics import confusion_matrix"
   ]
  },
  {
   "cell_type": "code",
   "execution_count": 40,
   "metadata": {},
   "outputs": [
    {
     "name": "stdout",
     "output_type": "stream",
     "text": [
      "[[ 6 15]\n",
      " [10  9]]\n"
     ]
    }
   ],
   "source": [
    "print(confusion_matrix(y_test,y_pred_dnn))"
   ]
  },
  {
   "cell_type": "code",
   "execution_count": 41,
   "metadata": {},
   "outputs": [
    {
     "name": "stdout",
     "output_type": "stream",
     "text": [
      "              precision    recall  f1-score   support\n",
      "\n",
      "           0       0.38      0.29      0.32        21\n",
      "           1       0.38      0.47      0.42        19\n",
      "\n",
      "    accuracy                           0.38        40\n",
      "   macro avg       0.38      0.38      0.37        40\n",
      "weighted avg       0.38      0.38      0.37        40\n",
      "\n"
     ]
    }
   ],
   "source": [
    "print(classification_report(y_test,y_pred_dnn))"
   ]
  },
  {
   "cell_type": "code",
   "execution_count": 42,
   "metadata": {},
   "outputs": [
    {
     "name": "stdout",
     "output_type": "stream",
     "text": [
      "0.65\n"
     ]
    }
   ],
   "source": [
    "print(accuracy_score(y_pred,y_pred_dnn))"
   ]
  },
  {
   "cell_type": "code",
   "execution_count": 43,
   "metadata": {},
   "outputs": [],
   "source": [
    "y_pred_dnn_train=classifier.predict(x_train)\n",
    "y_pred_dnn_train=(y_pred_dnn_train>0.5)"
   ]
  },
  {
   "cell_type": "code",
   "execution_count": 44,
   "metadata": {},
   "outputs": [
    {
     "name": "stdout",
     "output_type": "stream",
     "text": [
      "0.68125\n",
      "              precision    recall  f1-score   support\n",
      "\n",
      "           0       0.71      0.59      0.65        79\n",
      "           1       0.66      0.77      0.71        81\n",
      "\n",
      "    accuracy                           0.68       160\n",
      "   macro avg       0.69      0.68      0.68       160\n",
      "weighted avg       0.69      0.68      0.68       160\n",
      "\n",
      "[[47 32]\n",
      " [19 62]]\n"
     ]
    }
   ],
   "source": [
    "print(accuracy_score(y_train,y_pred_dnn_train))\n",
    "print(classification_report(y_train,y_pred_dnn_train))\n",
    "print(confusion_matrix(y_train,y_pred_dnn_train))"
   ]
  },
  {
   "cell_type": "code",
   "execution_count": null,
   "metadata": {},
   "outputs": [],
   "source": []
  }
 ],
 "metadata": {
  "kernelspec": {
   "display_name": "Python 3",
   "language": "python",
   "name": "python3"
  },
  "language_info": {
   "codemirror_mode": {
    "name": "ipython",
    "version": 3
   },
   "file_extension": ".py",
   "mimetype": "text/x-python",
   "name": "python",
   "nbconvert_exporter": "python",
   "pygments_lexer": "ipython3",
   "version": "3.7.4"
  }
 },
 "nbformat": 4,
 "nbformat_minor": 2
}
