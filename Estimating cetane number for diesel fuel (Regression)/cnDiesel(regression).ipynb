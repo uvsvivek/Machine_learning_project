{
 "cells": [
  {
   "cell_type": "code",
   "execution_count": 1,
   "metadata": {},
   "outputs": [],
   "source": [
    "from scipy.io import loadmat\n",
    "import numpy as np\n",
    "import pandas as pd\n",
    "import matplotlib.pyplot as plt\n",
    "import seaborn as sns"
   ]
  },
  {
   "cell_type": "code",
   "execution_count": 2,
   "metadata": {},
   "outputs": [],
   "source": [
    "data=loadmat(\"cnDieselTrain.mat\")"
   ]
  },
  {
   "cell_type": "code",
   "execution_count": 3,
   "metadata": {},
   "outputs": [],
   "source": [
    "X=pd.DataFrame(data[\"cnTrainX\"].T)\n",
    "y=pd.DataFrame(data[\"cnTrainY\"].T)\n",
    "#print(X.head())"
   ]
  },
  {
   "cell_type": "code",
   "execution_count": 6,
   "metadata": {
    "scrolled": false
   },
   "outputs": [
    {
     "data": {
      "text/html": [
       "<div>\n",
       "<style scoped>\n",
       "    .dataframe tbody tr th:only-of-type {\n",
       "        vertical-align: middle;\n",
       "    }\n",
       "\n",
       "    .dataframe tbody tr th {\n",
       "        vertical-align: top;\n",
       "    }\n",
       "\n",
       "    .dataframe thead th {\n",
       "        text-align: right;\n",
       "    }\n",
       "</style>\n",
       "<table border=\"1\" class=\"dataframe\">\n",
       "  <thead>\n",
       "    <tr style=\"text-align: right;\">\n",
       "      <th></th>\n",
       "      <th>0</th>\n",
       "      <th>1</th>\n",
       "      <th>2</th>\n",
       "      <th>3</th>\n",
       "      <th>4</th>\n",
       "      <th>5</th>\n",
       "      <th>6</th>\n",
       "      <th>7</th>\n",
       "      <th>8</th>\n",
       "      <th>9</th>\n",
       "      <th>...</th>\n",
       "      <th>391</th>\n",
       "      <th>392</th>\n",
       "      <th>393</th>\n",
       "      <th>394</th>\n",
       "      <th>395</th>\n",
       "      <th>396</th>\n",
       "      <th>397</th>\n",
       "      <th>398</th>\n",
       "      <th>399</th>\n",
       "      <th>400</th>\n",
       "    </tr>\n",
       "  </thead>\n",
       "  <tbody>\n",
       "    <tr>\n",
       "      <td>0</td>\n",
       "      <td>0.006191</td>\n",
       "      <td>0.005554</td>\n",
       "      <td>0.004916</td>\n",
       "      <td>0.004278</td>\n",
       "      <td>0.003640</td>\n",
       "      <td>0.003003</td>\n",
       "      <td>0.002453</td>\n",
       "      <td>0.001864</td>\n",
       "      <td>0.001281</td>\n",
       "      <td>0.000745</td>\n",
       "      <td>...</td>\n",
       "      <td>0.060092</td>\n",
       "      <td>0.061456</td>\n",
       "      <td>0.060425</td>\n",
       "      <td>0.056491</td>\n",
       "      <td>0.049691</td>\n",
       "      <td>0.040802</td>\n",
       "      <td>0.031913</td>\n",
       "      <td>0.023024</td>\n",
       "      <td>0.014135</td>\n",
       "      <td>0.005246</td>\n",
       "    </tr>\n",
       "    <tr>\n",
       "      <td>1</td>\n",
       "      <td>0.006467</td>\n",
       "      <td>0.005708</td>\n",
       "      <td>0.004949</td>\n",
       "      <td>0.004189</td>\n",
       "      <td>0.003430</td>\n",
       "      <td>0.002671</td>\n",
       "      <td>0.002081</td>\n",
       "      <td>0.001423</td>\n",
       "      <td>0.000812</td>\n",
       "      <td>0.000289</td>\n",
       "      <td>...</td>\n",
       "      <td>0.050326</td>\n",
       "      <td>0.046921</td>\n",
       "      <td>0.041375</td>\n",
       "      <td>0.033703</td>\n",
       "      <td>0.025600</td>\n",
       "      <td>0.015505</td>\n",
       "      <td>0.005409</td>\n",
       "      <td>-0.004686</td>\n",
       "      <td>-0.014781</td>\n",
       "      <td>-0.024876</td>\n",
       "    </tr>\n",
       "    <tr>\n",
       "      <td>2</td>\n",
       "      <td>0.006227</td>\n",
       "      <td>0.005506</td>\n",
       "      <td>0.004786</td>\n",
       "      <td>0.004066</td>\n",
       "      <td>0.003346</td>\n",
       "      <td>0.002626</td>\n",
       "      <td>0.001999</td>\n",
       "      <td>0.001354</td>\n",
       "      <td>0.000758</td>\n",
       "      <td>0.000231</td>\n",
       "      <td>...</td>\n",
       "      <td>0.041781</td>\n",
       "      <td>0.036143</td>\n",
       "      <td>0.029385</td>\n",
       "      <td>0.021979</td>\n",
       "      <td>0.014282</td>\n",
       "      <td>0.005865</td>\n",
       "      <td>-0.002553</td>\n",
       "      <td>-0.010970</td>\n",
       "      <td>-0.019388</td>\n",
       "      <td>-0.027805</td>\n",
       "    </tr>\n",
       "    <tr>\n",
       "      <td>3</td>\n",
       "      <td>0.007022</td>\n",
       "      <td>0.006162</td>\n",
       "      <td>0.005302</td>\n",
       "      <td>0.004441</td>\n",
       "      <td>0.003581</td>\n",
       "      <td>0.002721</td>\n",
       "      <td>0.001974</td>\n",
       "      <td>0.001165</td>\n",
       "      <td>0.000422</td>\n",
       "      <td>-0.000226</td>\n",
       "      <td>...</td>\n",
       "      <td>0.059529</td>\n",
       "      <td>0.058182</td>\n",
       "      <td>0.054346</td>\n",
       "      <td>0.048187</td>\n",
       "      <td>0.039934</td>\n",
       "      <td>0.029773</td>\n",
       "      <td>0.019611</td>\n",
       "      <td>0.009450</td>\n",
       "      <td>-0.000711</td>\n",
       "      <td>-0.010872</td>\n",
       "    </tr>\n",
       "    <tr>\n",
       "      <td>4</td>\n",
       "      <td>0.005828</td>\n",
       "      <td>0.005223</td>\n",
       "      <td>0.004618</td>\n",
       "      <td>0.004012</td>\n",
       "      <td>0.003407</td>\n",
       "      <td>0.002802</td>\n",
       "      <td>0.002285</td>\n",
       "      <td>0.001732</td>\n",
       "      <td>0.001208</td>\n",
       "      <td>0.000727</td>\n",
       "      <td>...</td>\n",
       "      <td>0.050964</td>\n",
       "      <td>0.047001</td>\n",
       "      <td>0.041558</td>\n",
       "      <td>0.034620</td>\n",
       "      <td>0.026556</td>\n",
       "      <td>0.017491</td>\n",
       "      <td>0.008426</td>\n",
       "      <td>-0.000639</td>\n",
       "      <td>-0.009704</td>\n",
       "      <td>-0.018769</td>\n",
       "    </tr>\n",
       "    <tr>\n",
       "      <td>...</td>\n",
       "      <td>...</td>\n",
       "      <td>...</td>\n",
       "      <td>...</td>\n",
       "      <td>...</td>\n",
       "      <td>...</td>\n",
       "      <td>...</td>\n",
       "      <td>...</td>\n",
       "      <td>...</td>\n",
       "      <td>...</td>\n",
       "      <td>...</td>\n",
       "      <td>...</td>\n",
       "      <td>...</td>\n",
       "      <td>...</td>\n",
       "      <td>...</td>\n",
       "      <td>...</td>\n",
       "      <td>...</td>\n",
       "      <td>...</td>\n",
       "      <td>...</td>\n",
       "      <td>...</td>\n",
       "      <td>...</td>\n",
       "      <td>...</td>\n",
       "    </tr>\n",
       "    <tr>\n",
       "      <td>128</td>\n",
       "      <td>0.005925</td>\n",
       "      <td>0.005294</td>\n",
       "      <td>0.004662</td>\n",
       "      <td>0.004030</td>\n",
       "      <td>0.003398</td>\n",
       "      <td>0.002766</td>\n",
       "      <td>0.002237</td>\n",
       "      <td>0.001668</td>\n",
       "      <td>0.001115</td>\n",
       "      <td>0.000625</td>\n",
       "      <td>...</td>\n",
       "      <td>0.054740</td>\n",
       "      <td>0.052071</td>\n",
       "      <td>0.047520</td>\n",
       "      <td>0.041260</td>\n",
       "      <td>0.033467</td>\n",
       "      <td>0.024312</td>\n",
       "      <td>0.015157</td>\n",
       "      <td>0.006003</td>\n",
       "      <td>-0.003152</td>\n",
       "      <td>-0.012306</td>\n",
       "    </tr>\n",
       "    <tr>\n",
       "      <td>129</td>\n",
       "      <td>0.006204</td>\n",
       "      <td>0.005468</td>\n",
       "      <td>0.004732</td>\n",
       "      <td>0.003996</td>\n",
       "      <td>0.003260</td>\n",
       "      <td>0.002523</td>\n",
       "      <td>0.001886</td>\n",
       "      <td>0.001187</td>\n",
       "      <td>0.000546</td>\n",
       "      <td>-0.000012</td>\n",
       "      <td>...</td>\n",
       "      <td>0.049184</td>\n",
       "      <td>0.043508</td>\n",
       "      <td>0.036558</td>\n",
       "      <td>0.028793</td>\n",
       "      <td>0.020469</td>\n",
       "      <td>0.011472</td>\n",
       "      <td>0.002475</td>\n",
       "      <td>-0.006522</td>\n",
       "      <td>-0.015519</td>\n",
       "      <td>-0.024516</td>\n",
       "    </tr>\n",
       "    <tr>\n",
       "      <td>130</td>\n",
       "      <td>0.006152</td>\n",
       "      <td>0.005445</td>\n",
       "      <td>0.004738</td>\n",
       "      <td>0.004031</td>\n",
       "      <td>0.003324</td>\n",
       "      <td>0.002617</td>\n",
       "      <td>0.002032</td>\n",
       "      <td>0.001387</td>\n",
       "      <td>0.000807</td>\n",
       "      <td>0.000298</td>\n",
       "      <td>...</td>\n",
       "      <td>0.052873</td>\n",
       "      <td>0.048125</td>\n",
       "      <td>0.041762</td>\n",
       "      <td>0.034223</td>\n",
       "      <td>0.025790</td>\n",
       "      <td>0.016387</td>\n",
       "      <td>0.006984</td>\n",
       "      <td>-0.002419</td>\n",
       "      <td>-0.011822</td>\n",
       "      <td>-0.021225</td>\n",
       "    </tr>\n",
       "    <tr>\n",
       "      <td>131</td>\n",
       "      <td>0.006140</td>\n",
       "      <td>0.005457</td>\n",
       "      <td>0.004774</td>\n",
       "      <td>0.004091</td>\n",
       "      <td>0.003408</td>\n",
       "      <td>0.002724</td>\n",
       "      <td>0.002160</td>\n",
       "      <td>0.001545</td>\n",
       "      <td>0.000950</td>\n",
       "      <td>0.000442</td>\n",
       "      <td>...</td>\n",
       "      <td>0.052246</td>\n",
       "      <td>0.048263</td>\n",
       "      <td>0.042582</td>\n",
       "      <td>0.035591</td>\n",
       "      <td>0.027506</td>\n",
       "      <td>0.018305</td>\n",
       "      <td>0.009103</td>\n",
       "      <td>-0.000099</td>\n",
       "      <td>-0.009301</td>\n",
       "      <td>-0.018503</td>\n",
       "    </tr>\n",
       "    <tr>\n",
       "      <td>132</td>\n",
       "      <td>0.006074</td>\n",
       "      <td>0.005426</td>\n",
       "      <td>0.004779</td>\n",
       "      <td>0.004131</td>\n",
       "      <td>0.003484</td>\n",
       "      <td>0.002837</td>\n",
       "      <td>0.002309</td>\n",
       "      <td>0.001736</td>\n",
       "      <td>0.001177</td>\n",
       "      <td>0.000696</td>\n",
       "      <td>...</td>\n",
       "      <td>0.053511</td>\n",
       "      <td>0.050695</td>\n",
       "      <td>0.046060</td>\n",
       "      <td>0.039678</td>\n",
       "      <td>0.031863</td>\n",
       "      <td>0.022673</td>\n",
       "      <td>0.013483</td>\n",
       "      <td>0.004293</td>\n",
       "      <td>-0.004896</td>\n",
       "      <td>-0.014086</td>\n",
       "    </tr>\n",
       "  </tbody>\n",
       "</table>\n",
       "<p>133 rows × 401 columns</p>\n",
       "</div>"
      ],
      "text/plain": [
       "          0         1         2         3         4         5         6    \\\n",
       "0    0.006191  0.005554  0.004916  0.004278  0.003640  0.003003  0.002453   \n",
       "1    0.006467  0.005708  0.004949  0.004189  0.003430  0.002671  0.002081   \n",
       "2    0.006227  0.005506  0.004786  0.004066  0.003346  0.002626  0.001999   \n",
       "3    0.007022  0.006162  0.005302  0.004441  0.003581  0.002721  0.001974   \n",
       "4    0.005828  0.005223  0.004618  0.004012  0.003407  0.002802  0.002285   \n",
       "..        ...       ...       ...       ...       ...       ...       ...   \n",
       "128  0.005925  0.005294  0.004662  0.004030  0.003398  0.002766  0.002237   \n",
       "129  0.006204  0.005468  0.004732  0.003996  0.003260  0.002523  0.001886   \n",
       "130  0.006152  0.005445  0.004738  0.004031  0.003324  0.002617  0.002032   \n",
       "131  0.006140  0.005457  0.004774  0.004091  0.003408  0.002724  0.002160   \n",
       "132  0.006074  0.005426  0.004779  0.004131  0.003484  0.002837  0.002309   \n",
       "\n",
       "          7         8         9    ...       391       392       393  \\\n",
       "0    0.001864  0.001281  0.000745  ...  0.060092  0.061456  0.060425   \n",
       "1    0.001423  0.000812  0.000289  ...  0.050326  0.046921  0.041375   \n",
       "2    0.001354  0.000758  0.000231  ...  0.041781  0.036143  0.029385   \n",
       "3    0.001165  0.000422 -0.000226  ...  0.059529  0.058182  0.054346   \n",
       "4    0.001732  0.001208  0.000727  ...  0.050964  0.047001  0.041558   \n",
       "..        ...       ...       ...  ...       ...       ...       ...   \n",
       "128  0.001668  0.001115  0.000625  ...  0.054740  0.052071  0.047520   \n",
       "129  0.001187  0.000546 -0.000012  ...  0.049184  0.043508  0.036558   \n",
       "130  0.001387  0.000807  0.000298  ...  0.052873  0.048125  0.041762   \n",
       "131  0.001545  0.000950  0.000442  ...  0.052246  0.048263  0.042582   \n",
       "132  0.001736  0.001177  0.000696  ...  0.053511  0.050695  0.046060   \n",
       "\n",
       "          394       395       396       397       398       399       400  \n",
       "0    0.056491  0.049691  0.040802  0.031913  0.023024  0.014135  0.005246  \n",
       "1    0.033703  0.025600  0.015505  0.005409 -0.004686 -0.014781 -0.024876  \n",
       "2    0.021979  0.014282  0.005865 -0.002553 -0.010970 -0.019388 -0.027805  \n",
       "3    0.048187  0.039934  0.029773  0.019611  0.009450 -0.000711 -0.010872  \n",
       "4    0.034620  0.026556  0.017491  0.008426 -0.000639 -0.009704 -0.018769  \n",
       "..        ...       ...       ...       ...       ...       ...       ...  \n",
       "128  0.041260  0.033467  0.024312  0.015157  0.006003 -0.003152 -0.012306  \n",
       "129  0.028793  0.020469  0.011472  0.002475 -0.006522 -0.015519 -0.024516  \n",
       "130  0.034223  0.025790  0.016387  0.006984 -0.002419 -0.011822 -0.021225  \n",
       "131  0.035591  0.027506  0.018305  0.009103 -0.000099 -0.009301 -0.018503  \n",
       "132  0.039678  0.031863  0.022673  0.013483  0.004293 -0.004896 -0.014086  \n",
       "\n",
       "[133 rows x 401 columns]"
      ]
     },
     "execution_count": 6,
     "metadata": {},
     "output_type": "execute_result"
    }
   ],
   "source": [
    "X"
   ]
  },
  {
   "cell_type": "code",
   "execution_count": 50,
   "metadata": {
    "scrolled": false
   },
   "outputs": [],
   "source": [
    "from sklearn.preprocessing import MinMaxScaler,StandardScaler\n",
    "min_max=StandardScaler()\n",
    "X1=min_max.fit_transform(X)\n",
    "#x_test=min_max.fit_transform(x_test)\n"
   ]
  },
  {
   "cell_type": "code",
   "execution_count": 51,
   "metadata": {},
   "outputs": [
    {
     "data": {
      "text/plain": [
       "<matplotlib.axes._subplots.AxesSubplot at 0x1e2386be448>"
      ]
     },
     "execution_count": 51,
     "metadata": {},
     "output_type": "execute_result"
    },
    {
     "data": {
      "image/png": "[encoded data removed]",
      "text/plain": [
       "<Figure size 432x360 with 2 Axes>"
      ]
     },
     "metadata": {
      "needs_background": "light"
     },
     "output_type": "display_data"
    }
   ],
   "source": [
    "fig,(ax1,ax2)= plt.subplots(ncols=2,figsize=(6,5))\n",
    "ax1.set_title('before scaling')\n",
    "sns.kdeplot(X[0],ax=ax1)\n",
    "sns.kdeplot(X[1],ax=ax1)\n",
    "ax2.set_title('after_scaling')\n",
    "sns.kdeplot(X1[0],ax=ax2)\n",
    "sns.kdeplot(X1[1],ax=ax2)"
   ]
  },
  {
   "cell_type": "code",
   "execution_count": 52,
   "metadata": {
    "scrolled": true
   },
   "outputs": [],
   "source": [
    "from sklearn.model_selection import train_test_split\n",
    "x_train,x_test,y_train,y_test=train_test_split(X1,y,test_size=0.2)"
   ]
  },
  {
   "cell_type": "code",
   "execution_count": 53,
   "metadata": {},
   "outputs": [],
   "source": [
    "from sklearn.svm import SVR"
   ]
  },
  {
   "cell_type": "code",
   "execution_count": 54,
   "metadata": {},
   "outputs": [],
   "source": [
    "from sklearn.decomposition import PCA\n",
    "pca=PCA(n_components=15)\n",
    "x_train=pca.fit_transform(x_train)\n",
    "x_test=pca.transform(x_test)\n"
   ]
  },
  {
   "cell_type": "code",
   "execution_count": 32,
   "metadata": {},
   "outputs": [
    {
     "ename": "ValueError",
     "evalue": "x and y must be the same size",
     "output_type": "error",
     "traceback": [
      "\u001b[1;31m---------------------------------------------------------------------------\u001b[0m",
      "\u001b[1;31mValueError\u001b[0m                                Traceback (most recent call last)",
      "\u001b[1;32m<ipython-input-32-81851d2c1d73>\u001b[0m in \u001b[0;36m<module>\u001b[1;34m\u001b[0m\n\u001b[0;32m      1\u001b[0m \u001b[1;31m#t=pd.DataFrame(x_train)\u001b[0m\u001b[1;33m\u001b[0m\u001b[1;33m\u001b[0m\u001b[1;33m\u001b[0m\u001b[0m\n\u001b[1;32m----> 2\u001b[1;33m \u001b[0mplt\u001b[0m\u001b[1;33m.\u001b[0m\u001b[0mscatter\u001b[0m\u001b[1;33m(\u001b[0m\u001b[0mx_train\u001b[0m\u001b[1;33m,\u001b[0m\u001b[0my_train\u001b[0m\u001b[1;33m)\u001b[0m\u001b[1;33m\u001b[0m\u001b[1;33m\u001b[0m\u001b[0m\n\u001b[0m",
      "\u001b[1;32m~\\Anaconda3\\lib\\site-packages\\matplotlib\\pyplot.py\u001b[0m in \u001b[0;36mscatter\u001b[1;34m(x, y, s, c, marker, cmap, norm, vmin, vmax, alpha, linewidths, verts, edgecolors, plotnonfinite, data, **kwargs)\u001b[0m\n\u001b[0;32m   2845\u001b[0m         \u001b[0mverts\u001b[0m\u001b[1;33m=\u001b[0m\u001b[0mverts\u001b[0m\u001b[1;33m,\u001b[0m \u001b[0medgecolors\u001b[0m\u001b[1;33m=\u001b[0m\u001b[0medgecolors\u001b[0m\u001b[1;33m,\u001b[0m\u001b[1;33m\u001b[0m\u001b[1;33m\u001b[0m\u001b[0m\n\u001b[0;32m   2846\u001b[0m         plotnonfinite=plotnonfinite, **({\"data\": data} if data is not\n\u001b[1;32m-> 2847\u001b[1;33m         None else {}), **kwargs)\n\u001b[0m\u001b[0;32m   2848\u001b[0m     \u001b[0msci\u001b[0m\u001b[1;33m(\u001b[0m\u001b[0m__ret\u001b[0m\u001b[1;33m)\u001b[0m\u001b[1;33m\u001b[0m\u001b[1;33m\u001b[0m\u001b[0m\n\u001b[0;32m   2849\u001b[0m     \u001b[1;32mreturn\u001b[0m \u001b[0m__ret\u001b[0m\u001b[1;33m\u001b[0m\u001b[1;33m\u001b[0m\u001b[0m\n",
      "\u001b[1;32m~\\Anaconda3\\lib\\site-packages\\matplotlib\\__init__.py\u001b[0m in \u001b[0;36minner\u001b[1;34m(ax, data, *args, **kwargs)\u001b[0m\n\u001b[0;32m   1599\u001b[0m     \u001b[1;32mdef\u001b[0m \u001b[0minner\u001b[0m\u001b[1;33m(\u001b[0m\u001b[0max\u001b[0m\u001b[1;33m,\u001b[0m \u001b[1;33m*\u001b[0m\u001b[0margs\u001b[0m\u001b[1;33m,\u001b[0m \u001b[0mdata\u001b[0m\u001b[1;33m=\u001b[0m\u001b[1;32mNone\u001b[0m\u001b[1;33m,\u001b[0m \u001b[1;33m**\u001b[0m\u001b[0mkwargs\u001b[0m\u001b[1;33m)\u001b[0m\u001b[1;33m:\u001b[0m\u001b[1;33m\u001b[0m\u001b[1;33m\u001b[0m\u001b[0m\n\u001b[0;32m   1600\u001b[0m         \u001b[1;32mif\u001b[0m \u001b[0mdata\u001b[0m \u001b[1;32mis\u001b[0m \u001b[1;32mNone\u001b[0m\u001b[1;33m:\u001b[0m\u001b[1;33m\u001b[0m\u001b[1;33m\u001b[0m\u001b[0m\n\u001b[1;32m-> 1601\u001b[1;33m             \u001b[1;32mreturn\u001b[0m \u001b[0mfunc\u001b[0m\u001b[1;33m(\u001b[0m\u001b[0max\u001b[0m\u001b[1;33m,\u001b[0m \u001b[1;33m*\u001b[0m\u001b[0mmap\u001b[0m\u001b[1;33m(\u001b[0m\u001b[0msanitize_sequence\u001b[0m\u001b[1;33m,\u001b[0m \u001b[0margs\u001b[0m\u001b[1;33m)\u001b[0m\u001b[1;33m,\u001b[0m \u001b[1;33m**\u001b[0m\u001b[0mkwargs\u001b[0m\u001b[1;33m)\u001b[0m\u001b[1;33m\u001b[0m\u001b[1;33m\u001b[0m\u001b[0m\n\u001b[0m\u001b[0;32m   1602\u001b[0m \u001b[1;33m\u001b[0m\u001b[0m\n\u001b[0;32m   1603\u001b[0m         \u001b[0mbound\u001b[0m \u001b[1;33m=\u001b[0m \u001b[0mnew_sig\u001b[0m\u001b[1;33m.\u001b[0m\u001b[0mbind\u001b[0m\u001b[1;33m(\u001b[0m\u001b[0max\u001b[0m\u001b[1;33m,\u001b[0m \u001b[1;33m*\u001b[0m\u001b[0margs\u001b[0m\u001b[1;33m,\u001b[0m \u001b[1;33m**\u001b[0m\u001b[0mkwargs\u001b[0m\u001b[1;33m)\u001b[0m\u001b[1;33m\u001b[0m\u001b[1;33m\u001b[0m\u001b[0m\n",
      "\u001b[1;32m~\\Anaconda3\\lib\\site-packages\\matplotlib\\axes\\_axes.py\u001b[0m in \u001b[0;36mscatter\u001b[1;34m(self, x, y, s, c, marker, cmap, norm, vmin, vmax, alpha, linewidths, verts, edgecolors, plotnonfinite, **kwargs)\u001b[0m\n\u001b[0;32m   4442\u001b[0m         \u001b[0my\u001b[0m \u001b[1;33m=\u001b[0m \u001b[0mnp\u001b[0m\u001b[1;33m.\u001b[0m\u001b[0mma\u001b[0m\u001b[1;33m.\u001b[0m\u001b[0mravel\u001b[0m\u001b[1;33m(\u001b[0m\u001b[0my\u001b[0m\u001b[1;33m)\u001b[0m\u001b[1;33m\u001b[0m\u001b[1;33m\u001b[0m\u001b[0m\n\u001b[0;32m   4443\u001b[0m         \u001b[1;32mif\u001b[0m \u001b[0mx\u001b[0m\u001b[1;33m.\u001b[0m\u001b[0msize\u001b[0m \u001b[1;33m!=\u001b[0m \u001b[0my\u001b[0m\u001b[1;33m.\u001b[0m\u001b[0msize\u001b[0m\u001b[1;33m:\u001b[0m\u001b[1;33m\u001b[0m\u001b[1;33m\u001b[0m\u001b[0m\n\u001b[1;32m-> 4444\u001b[1;33m             \u001b[1;32mraise\u001b[0m \u001b[0mValueError\u001b[0m\u001b[1;33m(\u001b[0m\u001b[1;34m\"x and y must be the same size\"\u001b[0m\u001b[1;33m)\u001b[0m\u001b[1;33m\u001b[0m\u001b[1;33m\u001b[0m\u001b[0m\n\u001b[0m\u001b[0;32m   4445\u001b[0m \u001b[1;33m\u001b[0m\u001b[0m\n\u001b[0;32m   4446\u001b[0m         \u001b[1;32mif\u001b[0m \u001b[0ms\u001b[0m \u001b[1;32mis\u001b[0m \u001b[1;32mNone\u001b[0m\u001b[1;33m:\u001b[0m\u001b[1;33m\u001b[0m\u001b[1;33m\u001b[0m\u001b[0m\n",
      "\u001b[1;31mValueError\u001b[0m: x and y must be the same size"
     ]
    },
    {
     "data": {
      "image/png": "[encoded data removed]",
      "text/plain": [
       "<Figure size 432x288 with 1 Axes>"
      ]
     },
     "metadata": {
      "needs_background": "light"
     },
     "output_type": "display_data"
    }
   ],
   "source": [
    "#t=pd.DataFrame(x_train)\n",
    "plt.scatter(x_train,y_train)\n"
   ]
  },
  {
   "cell_type": "code",
   "execution_count": 11,
   "metadata": {},
   "outputs": [
    {
     "data": {
      "text/plain": [
       "(array([ 1.,  4.,  7., 21., 26., 25.,  9.,  7.,  5.,  1.]),\n",
       " array([-37.25888134, -29.61802878, -21.97717621, -14.33632365,\n",
       "         -6.69547108,   0.94538148,   8.58623404,  16.22708661,\n",
       "         23.86793917,  31.50879174,  39.1496443 ]),\n",
       " <a list of 10 Patch objects>)"
      ]
     },
     "execution_count": 11,
     "metadata": {},
     "output_type": "execute_result"
    },
    {
     "data": {
      "image/png": "[encoded data removed]",
      "text/plain": [
       "<Figure size 432x288 with 1 Axes>"
      ]
     },
     "metadata": {
      "needs_background": "light"
     },
     "output_type": "display_data"
    }
   ],
   "source": [
    "plt.hist(x_train)"
   ]
  },
  {
   "cell_type": "code",
   "execution_count": 12,
   "metadata": {},
   "outputs": [],
   "source": [
    "from sklearn.model_selection import GridSearchCV\n",
    "import warnings\n",
    "warnings.filterwarnings('ignore')\n",
    "parameters=[{'C':[1,10,100,1000],'kernel':['linear']},\n",
    "            {'C':[1,10,100,1000],'kernel':['rbf'],'gamma':[0.1,0.2,0.3,0.4,0.5,0.6,0.7,0.8,0.9]}]\n",
    "grid_search=GridSearchCV(SVR(),param_grid=parameters,scoring='neg_mean_squared_error',cv=10)"
   ]
  },
  {
   "cell_type": "code",
   "execution_count": 13,
   "metadata": {
    "scrolled": true
   },
   "outputs": [
    {
     "data": {
      "text/plain": [
       "GridSearchCV(cv=10, error_score='raise-deprecating',\n",
       "             estimator=SVR(C=1.0, cache_size=200, coef0=0.0, degree=3,\n",
       "                           epsilon=0.1, gamma='auto_deprecated', kernel='rbf',\n",
       "                           max_iter=-1, shrinking=True, tol=0.001,\n",
       "                           verbose=False),\n",
       "             iid='warn', n_jobs=None,\n",
       "             param_grid=[{'C': [1, 10, 100, 1000], 'kernel': ['linear']},\n",
       "                         {'C': [1, 10, 100, 1000],\n",
       "                          'gamma': [0.1, 0.2, 0.3, 0.4, 0.5, 0.6, 0.7, 0.8,\n",
       "                                    0.9],\n",
       "                          'kernel': ['rbf']}],\n",
       "             pre_dispatch='2*n_jobs', refit=True, return_train_score=False,\n",
       "             scoring='neg_mean_squared_error', verbose=0)"
      ]
     },
     "execution_count": 13,
     "metadata": {},
     "output_type": "execute_result"
    }
   ],
   "source": [
    "grid_search.fit(x_train,y_train)\n",
    "\n"
   ]
  },
  {
   "cell_type": "code",
   "execution_count": 14,
   "metadata": {},
   "outputs": [
    {
     "data": {
      "text/plain": [
       "{'C': 10, 'kernel': 'linear'}"
      ]
     },
     "execution_count": 14,
     "metadata": {},
     "output_type": "execute_result"
    }
   ],
   "source": [
    "grid_search.best_params_"
   ]
  },
  {
   "cell_type": "code",
   "execution_count": 15,
   "metadata": {},
   "outputs": [],
   "source": [
    "n_estimators=[500,800,1500,2500,5000]\n",
    "max_features=['auto','sqrt','log2']\n",
    "max_depth=[10,20,30,40,50]\n",
    "min_samples_split=[2,5,10,15,20]\n",
    "min_samples_leaf=[1,2,5,10,15]\n",
    "grid_para={'n_estimators':n_estimators,'max_features':max_features,\n",
    "          'max_depth':max_depth,'min_samples_split':min_samples_split,\n",
    "          'min_samples_leaf':min_samples_leaf}\n"
   ]
  },
  {
   "cell_type": "code",
   "execution_count": 16,
   "metadata": {},
   "outputs": [
    {
     "data": {
      "text/plain": [
       "'\\nfrom sklearn.model_selection import RandomizedSearchCV\\nfrom sklearn.ensemble import RandomForestRegressor\\nrfr=RandomForestRegressor(random_state=1)\\nrfr_rnadom=RandomizedSearchCV(estimator=rfr,param_distributions=grid_para\\n                             ,n_iter=500,cv=10\\n                             ,random_state=40)\\n'"
      ]
     },
     "execution_count": 16,
     "metadata": {},
     "output_type": "execute_result"
    }
   ],
   "source": [
    "'''\n",
    "from sklearn.model_selection import RandomizedSearchCV\n",
    "from sklearn.ensemble import RandomForestRegressor\n",
    "rfr=RandomForestRegressor(random_state=1)\n",
    "rfr_rnadom=RandomizedSearchCV(estimator=rfr,param_distributions=grid_para\n",
    "                             ,n_iter=500,cv=10\n",
    "                             ,random_state=40)\n",
    "'''"
   ]
  },
  {
   "cell_type": "code",
   "execution_count": 17,
   "metadata": {},
   "outputs": [],
   "source": [
    "#rfr_rnadom.fit(x_train,y_train)\n"
   ]
  },
  {
   "cell_type": "code",
   "execution_count": null,
   "metadata": {},
   "outputs": [],
   "source": []
  },
  {
   "cell_type": "code",
   "execution_count": 55,
   "metadata": {},
   "outputs": [],
   "source": [
    "x_train1=x_train"
   ]
  },
  {
   "cell_type": "code",
   "execution_count": 56,
   "metadata": {},
   "outputs": [
    {
     "data": {
      "text/plain": [
       "(106, 15)"
      ]
     },
     "execution_count": 56,
     "metadata": {},
     "output_type": "execute_result"
    }
   ],
   "source": [
    "x_train1.shape"
   ]
  },
  {
   "cell_type": "code",
   "execution_count": 57,
   "metadata": {},
   "outputs": [],
   "source": [
    "from sklearn.linear_model import LinearRegression\n",
    "from sklearn.svm import SVR\n",
    "from sklearn.model_selection import KFold,cross_val_score \n",
    "from sklearn.neighbors import KNeighborsRegressor\n",
    "from sklearn.preprocessing import PolynomialFeatures\n",
    "from sklearn.metrics import r2_score\n",
    "import warnings\n",
    "warnings.filterwarnings(\"ignore\")"
   ]
  },
  {
   "cell_type": "code",
   "execution_count": 58,
   "metadata": {
    "scrolled": false
   },
   "outputs": [
    {
     "name": "stdout",
     "output_type": "stream",
     "text": [
      "Linear,-5.668794(4.991409)\n",
      "SVR,-6.119636(4.796644)\n",
      "KNNR,-6.452679(2.514621)\n",
      "poly,-333591.060659(988390.762262)\n"
     ]
    }
   ],
   "source": [
    "models=[]\n",
    "models.append((\"Linear\",LinearRegression()))\n",
    "models.append((\"SVR\",SVR(kernel='linear',C=1)))\n",
    "models.append((\"KNNR\",KNeighborsRegressor(n_neighbors=15)))\n",
    "models.append((\"poly\",LinearRegression()))\n",
    "results=[]\n",
    "names=[]\n",
    "for name,model in models:\n",
    "    kfold=KFold(n_splits=10,random_state=10)\n",
    "    if (name=='poly'):\n",
    "        poly_features=PolynomialFeatures(degree=4)\n",
    "        x_train1=poly_features.fit_transform(x_train1)\n",
    "    cv_results=cross_val_score(model,x_train1,y_train,cv=kfold,scoring='neg_mean_squared_error')\n",
    "    results.append(cv_results)\n",
    "    names.append(name)\n",
    "    #print(cv_results)\n",
    "    msg=\"%s,%f(%f)\"%(name,cv_results.mean(),cv_results.std())\n",
    "    print(msg)\n",
    "   "
   ]
  },
  {
   "cell_type": "code",
   "execution_count": 24,
   "metadata": {},
   "outputs": [
    {
     "data": {
      "text/plain": [
       "LinearRegression(copy_X=True, fit_intercept=True, n_jobs=None, normalize=False)"
      ]
     },
     "execution_count": 24,
     "metadata": {},
     "output_type": "execute_result"
    }
   ],
   "source": [
    "Lr=LinearRegression()\n",
    "Lr.fit(x_train,y_train)\n"
   ]
  },
  {
   "cell_type": "code",
   "execution_count": 25,
   "metadata": {
    "scrolled": true
   },
   "outputs": [],
   "source": [
    "y_pred_lr=Lr.predict(x_test)\n",
    "y_pred_train_lr=Lr.predict(x_train)"
   ]
  },
  {
   "cell_type": "code",
   "execution_count": 42,
   "metadata": {},
   "outputs": [
    {
     "name": "stdout",
     "output_type": "stream",
     "text": [
      "1.4966316804051227\n",
      "2.9993843746627733\n",
      "0.6703626138623306\n"
     ]
    }
   ],
   "source": [
    "from sklearn.metrics import mean_squared_error,mean_absolute_error,r2_score\n",
    "print(np.sqrt(mean_squared_error(y_test,y_pred_lr)))\n",
    "\n",
    "print(r2_score(y_test,y_pred_lr))"
   ]
  },
  {
   "cell_type": "code",
   "execution_count": 27,
   "metadata": {},
   "outputs": [
    {
     "data": {
      "image/png": "[encoded data removed]",
      "text/plain": [
       "<Figure size 432x288 with 1 Axes>"
      ]
     },
     "metadata": {
      "needs_background": "light"
     },
     "output_type": "display_data"
    }
   ],
   "source": [
    "plt.scatter(x_test,y_test,color='red')\n",
    "plt.plot(x_test,y_pred_lr,color='green')\n",
    "plt.title('test data for linear regression')\n",
    "plt.show()"
   ]
  },
  {
   "cell_type": "code",
   "execution_count": 48,
   "metadata": {},
   "outputs": [
    {
     "name": "stdout",
     "output_type": "stream",
     "text": [
      "root mean square error of train data using linear regression 2.9993843746627733\n",
      "r2_score of linear regression for train data 0.3530377495138569\n"
     ]
    },
    {
     "data": {
      "image/png": "[encoded data removed]",
      "text/plain": [
       "<Figure size 432x288 with 1 Axes>"
      ]
     },
     "metadata": {
      "needs_background": "light"
     },
     "output_type": "display_data"
    }
   ],
   "source": [
    "print(\"root mean square error of train data using linear regression\",np.sqrt(mean_squared_error(y_train,y_pred_train_lr)))\n",
    "print(\"r2_score of linear regression for train data\",r2_score(y_train,y_pred_train_lr))\n",
    "plt.scatter(x_train,y_train,color='red')\n",
    "plt.plot(x_train,y_pred_train_lr,color='green')\n",
    "plt.title('train data using linear regression')\n",
    "plt.show()"
   ]
  },
  {
   "cell_type": "code",
   "execution_count": 49,
   "metadata": {},
   "outputs": [],
   "source": [
    "svm1=SVR(kernel='linear',C=10)\n",
    "svm1.fit(x_train,y_train)\n",
    "y_pred_svm=svm1.predict(x_test)\n",
    "y_pred_train_svm=svm1.predict(x_train)"
   ]
  },
  {
   "cell_type": "code",
   "execution_count": 47,
   "metadata": {},
   "outputs": [
    {
     "name": "stdout",
     "output_type": "stream",
     "text": [
      "test data root mean square error 1.534596437705426\n",
      "r2_score of svr using linaer kernel  0.6534268089460884\n"
     ]
    }
   ],
   "source": [
    "print(\"test data root mean square error\",np.sqrt(mean_squared_error(y_test,y_pred_svm)))\n",
    "print(\"r2_score of svr using linaer kernel \",r2_score(y_test,y_pred_svm))"
   ]
  },
  {
   "cell_type": "code",
   "execution_count": 39,
   "metadata": {},
   "outputs": [
    {
     "data": {
      "text/plain": [
       "[<matplotlib.lines.Line2D at 0x1c46126c348>]"
      ]
     },
     "execution_count": 39,
     "metadata": {},
     "output_type": "execute_result"
    },
    {
     "data": {
      "image/png": "[encoded data removed]",
      "text/plain": [
       "<Figure size 432x288 with 1 Axes>"
      ]
     },
     "metadata": {
      "needs_background": "light"
     },
     "output_type": "display_data"
    }
   ],
   "source": [
    "plt.scatter(x_test,y_test,color='red')\n",
    "plt.plot(x_test,y_pred_svm,color='green')"
   ]
  },
  {
   "cell_type": "code",
   "execution_count": 51,
   "metadata": {},
   "outputs": [
    {
     "name": "stdout",
     "output_type": "stream",
     "text": [
      "train data root men square error: 3.0045609143529375\n",
      "r2_score of train data using svm kernel linear and c=10 is 0.35080268035554607\n"
     ]
    }
   ],
   "source": [
    "print(\"train data root men square error:\",np.sqrt(mean_squared_error(y_train,y_pred_train_svm)))\n",
    "print(\"r2_score of train data using svm kernel linear and c=10 is\",r2_score(y_train,y_pred_train_svm))"
   ]
  },
  {
   "cell_type": "code",
   "execution_count": 41,
   "metadata": {},
   "outputs": [
    {
     "data": {
      "text/plain": [
       "[<matplotlib.lines.Line2D at 0x1c4613f7488>]"
      ]
     },
     "execution_count": 41,
     "metadata": {},
     "output_type": "execute_result"
    },
    {
     "data": {
      "image/png": "[encoded data removed]",
      "text/plain": [
       "<Figure size 432x288 with 1 Axes>"
      ]
     },
     "metadata": {
      "needs_background": "light"
     },
     "output_type": "display_data"
    }
   ],
   "source": [
    "plt.scatter(x_train,y_train,color='red')\n",
    "plt.plot(x_train,y_pred_train_svm,color='green')"
   ]
  },
  {
   "cell_type": "code",
   "execution_count": 59,
   "metadata": {},
   "outputs": [],
   "source": [
    "import matplotlib.pyplot as plt"
   ]
  },
  {
   "cell_type": "code",
   "execution_count": 60,
   "metadata": {},
   "outputs": [
    {
     "data": {
      "text/plain": [
       "[<matplotlib.lines.Line2D at 0x1e23b2f1d88>]"
      ]
     },
     "execution_count": 60,
     "metadata": {},
     "output_type": "execute_result"
    },
    {
     "data": {
      "image/png": "[encoded data removed]",
      "text/plain": [
       "<Figure size 432x288 with 1 Axes>"
      ]
     },
     "metadata": {
      "needs_background": "light"
     },
     "output_type": "display_data"
    }
   ],
   "source": [
    "lr=[9.617,6,5.5,5.66]\n",
    "lr_sd=[3.49,2.76,2.64,5.49]\n",
    "nc=[1,2,3,15]\n",
    "plt.plot(nc,lr)"
   ]
  },
  {
   "cell_type": "code",
   "execution_count": 61,
   "metadata": {},
   "outputs": [
    {
     "data": {
      "text/plain": [
       "[<matplotlib.lines.Line2D at 0x1e23b41d908>]"
      ]
     },
     "execution_count": 61,
     "metadata": {},
     "output_type": "execute_result"
    },
    {
     "data": {
      "image/png": "[encoded data removed]",
      "text/plain": [
       "<Figure size 432x288 with 1 Axes>"
      ]
     },
     "metadata": {
      "needs_background": "light"
     },
     "output_type": "display_data"
    }
   ],
   "source": [
    "plt.plot(nc,lr_sd)"
   ]
  },
  {
   "cell_type": "code",
   "execution_count": null,
   "metadata": {},
   "outputs": [],
   "source": []
  }
 ],
 "metadata": {
  "kernelspec": {
   "display_name": "Python 3",
   "language": "python",
   "name": "python3"
  },
  "language_info": {
   "codemirror_mode": {
    "name": "ipython",
    "version": 3
   },
   "file_extension": ".py",
   "mimetype": "text/x-python",
   "name": "python",
   "nbconvert_exporter": "python",
   "pygments_lexer": "ipython3",
   "version": "3.7.4"
  }
 },
 "nbformat": 4,
 "nbformat_minor": 2
}
